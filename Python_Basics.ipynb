{
  "nbformat": 4,
  "nbformat_minor": 0,
  "metadata": {
    "colab": {
      "name": "Python Basics.ipynb",
      "provenance": [],
      "collapsed_sections": [],
      "toc_visible": true,
      "authorship_tag": "ABX9TyOQ/0TVnn+nELGYM5FB9btO",
      "include_colab_link": true
    },
    "kernelspec": {
      "name": "python3",
      "display_name": "Python 3"
    },
    "language_info": {
      "name": "python"
    }
  },
  "cells": [
    {
      "cell_type": "markdown",
      "metadata": {
        "id": "view-in-github",
        "colab_type": "text"
      },
      "source": [
        "<a href=\"https://colab.research.google.com/github/AmalPF/Python-Notes/blob/main/Python_Basics.ipynb\" target=\"_parent\"><img src=\"https://colab.research.google.com/assets/colab-badge.svg\" alt=\"Open In Colab\"/></a>"
      ]
    },
    {
      "cell_type": "markdown",
      "metadata": {
        "id": "_JRQWTLYoueM"
      },
      "source": [
        "# **Python Basics**"
      ]
    },
    {
      "cell_type": "markdown",
      "metadata": {
        "id": "DJAUSCzjo1Wa"
      },
      "source": [
        "## **Variables**\n",
        "\n",
        "Variables are named memory locations. We can use variables to store various types of data like integers, floating point values, string, and many more data types that the python supports.\n",
        "<br>\n",
        "In python the variable is like a container, which holds any type of value. Suppose we store an integer value in a variable and then at some point in the program we try to store a string value into the same variable then, the variables type changes to string."
      ]
    },
    {
      "cell_type": "markdown",
      "metadata": {
        "id": "_uUEmxhzp0M3"
      },
      "source": [
        "### **Rules for Declaring a Variable**\n",
        "1. Variable name must contain only alphabets, numbers and underscore. No other special symbols are allowed.\n",
        "2. A variable name must start with an alphabet or an underscore.\n",
        "3. Python keywords cannot be used for naming a variable.\n",
        "\n",
        "**Note:** Python is case sensitive so *var* and *VAR* are different variables in python."
      ]
    },
    {
      "cell_type": "code",
      "metadata": {
        "id": "DMkd4uWqonYm"
      },
      "source": [
        "var = 10\n",
        "VAR = 20"
      ],
      "execution_count": null,
      "outputs": []
    },
    {
      "cell_type": "code",
      "metadata": {
        "colab": {
          "base_uri": "https://localhost:8080/"
        },
        "id": "AumjB4lCq8eu",
        "outputId": "856eaa94-a876-48f1-93ce-52471492e8ab"
      },
      "source": [
        "var"
      ],
      "execution_count": null,
      "outputs": [
        {
          "output_type": "execute_result",
          "data": {
            "text/plain": [
              "10"
            ]
          },
          "metadata": {
            "tags": []
          },
          "execution_count": 5
        }
      ]
    },
    {
      "cell_type": "code",
      "metadata": {
        "colab": {
          "base_uri": "https://localhost:8080/"
        },
        "id": "EGmI6BTmq81E",
        "outputId": "a3beacf1-a857-4cc3-8cac-fd4f0e69058b"
      },
      "source": [
        "VAR"
      ],
      "execution_count": null,
      "outputs": [
        {
          "output_type": "execute_result",
          "data": {
            "text/plain": [
              "20"
            ]
          },
          "metadata": {
            "tags": []
          },
          "execution_count": 6
        }
      ]
    },
    {
      "cell_type": "code",
      "metadata": {
        "id": "W-s8HW9DrShh"
      },
      "source": [
        "# these are valid variable names\n",
        "abc123 = 1\n",
        "abc_123 = 2\n",
        "_abc123 = 3"
      ],
      "execution_count": null,
      "outputs": []
    },
    {
      "cell_type": "code",
      "metadata": {
        "colab": {
          "base_uri": "https://localhost:8080/"
        },
        "id": "fs1pWhJwrceP",
        "outputId": "1fa7fbac-14d9-4765-e03c-a127ca53f212"
      },
      "source": [
        "abc123, abc_123, _abc123"
      ],
      "execution_count": null,
      "outputs": [
        {
          "output_type": "execute_result",
          "data": {
            "text/plain": [
              "(1, 2, 3)"
            ]
          },
          "metadata": {
            "tags": []
          },
          "execution_count": 13
        }
      ]
    },
    {
      "cell_type": "code",
      "metadata": {
        "colab": {
          "base_uri": "https://localhost:8080/",
          "height": 128
        },
        "id": "_h__bWaUri0v",
        "outputId": "06399649-b7d8-42e7-d3d2-98f3aba145e4"
      },
      "source": [
        "# these are invalid variable names\n",
        "abc123$ = 4"
      ],
      "execution_count": null,
      "outputs": [
        {
          "output_type": "error",
          "ename": "SyntaxError",
          "evalue": "ignored",
          "traceback": [
            "\u001b[0;36m  File \u001b[0;32m\"<ipython-input-16-f6622a8f95bc>\"\u001b[0;36m, line \u001b[0;32m1\u001b[0m\n\u001b[0;31m    abc123$ = 4\u001b[0m\n\u001b[0m          ^\u001b[0m\n\u001b[0;31mSyntaxError\u001b[0m\u001b[0;31m:\u001b[0m invalid syntax\n"
          ]
        }
      ]
    },
    {
      "cell_type": "code",
      "metadata": {
        "colab": {
          "base_uri": "https://localhost:8080/",
          "height": 128
        },
        "id": "rHwYBRVEr61X",
        "outputId": "4e1f140b-cfa4-4ce4-a24f-1962f61463a1"
      },
      "source": [
        "abc 123 = 5"
      ],
      "execution_count": null,
      "outputs": [
        {
          "output_type": "error",
          "ename": "SyntaxError",
          "evalue": "ignored",
          "traceback": [
            "\u001b[0;36m  File \u001b[0;32m\"<ipython-input-17-46c167793694>\"\u001b[0;36m, line \u001b[0;32m1\u001b[0m\n\u001b[0;31m    abc 123 = 5\u001b[0m\n\u001b[0m          ^\u001b[0m\n\u001b[0;31mSyntaxError\u001b[0m\u001b[0;31m:\u001b[0m invalid syntax\n"
          ]
        }
      ]
    },
    {
      "cell_type": "code",
      "metadata": {
        "colab": {
          "base_uri": "https://localhost:8080/",
          "height": 128
        },
        "id": "0dC8qRcor9Mz",
        "outputId": "b4d0cb78-570c-4129-d077-edee43086309"
      },
      "source": [
        "5abc123 = 6"
      ],
      "execution_count": null,
      "outputs": [
        {
          "output_type": "error",
          "ename": "SyntaxError",
          "evalue": "ignored",
          "traceback": [
            "\u001b[0;36m  File \u001b[0;32m\"<ipython-input-18-3d4b4eb6d3d8>\"\u001b[0;36m, line \u001b[0;32m1\u001b[0m\n\u001b[0;31m    5abc123 = 6\u001b[0m\n\u001b[0m          ^\u001b[0m\n\u001b[0;31mSyntaxError\u001b[0m\u001b[0;31m:\u001b[0m invalid syntax\n"
          ]
        }
      ]
    },
    {
      "cell_type": "code",
      "metadata": {
        "colab": {
          "base_uri": "https://localhost:8080/",
          "height": 128
        },
        "id": "gFfX79HErBXK",
        "outputId": "4ac63e42-83c4-4492-a577-b609a5e3d158"
      },
      "source": [
        "class = 5"
      ],
      "execution_count": null,
      "outputs": [
        {
          "output_type": "error",
          "ename": "SyntaxError",
          "evalue": "ignored",
          "traceback": [
            "\u001b[0;36m  File \u001b[0;32m\"<ipython-input-10-5ff19d2568a1>\"\u001b[0;36m, line \u001b[0;32m1\u001b[0m\n\u001b[0;31m    class = 5\u001b[0m\n\u001b[0m          ^\u001b[0m\n\u001b[0;31mSyntaxError\u001b[0m\u001b[0;31m:\u001b[0m invalid syntax\n"
          ]
        }
      ]
    },
    {
      "cell_type": "markdown",
      "metadata": {
        "id": "EMtvgu5E-P3N"
      },
      "source": [
        "## **Commenting**\n",
        "For the readability of programs we use comments in between the codes. These comments will not be executed as codes. <br>\n",
        "In python we use two types of commenting.\n",
        "1. **Single line commenting:** In this we use the hash symbol (**#**). All the statements written after # will be considered as commments and will not be executed.<br>\n",
        "\n",
        "\n",
        "```\n",
        "# This is a comment\n",
        "```\n",
        "\n",
        "\n",
        "2. **Multiple line commenting:** For writing comments in multiple lines we use three single quotes to mark the beginning of the comment and for the end of the comment.\n",
        "\n",
        "\n",
        "```\n",
        "'''\n",
        "This is \n",
        "multiple line\n",
        "commenting\n",
        "'''\n",
        "```\n",
        "\n"
      ]
    },
    {
      "cell_type": "markdown",
      "metadata": {
        "id": "RTPJj4GGsAYL"
      },
      "source": [
        "## **Data Types in Python**\n",
        "\n",
        "* Integer\n",
        "* Float\n",
        "* String\n",
        "* List\n",
        "* Tuple\n",
        "* Set\n",
        "* Dictionary"
      ]
    },
    {
      "cell_type": "markdown",
      "metadata": {
        "id": "CqJDT_aAsTrz"
      },
      "source": [
        "### **Integer**\n",
        "\n",
        "Integer data type represents integer values like 11, -65, 0, etc.\n"
      ]
    },
    {
      "cell_type": "code",
      "metadata": {
        "id": "LTo0lSEVrJII"
      },
      "source": [
        "n = 10"
      ],
      "execution_count": null,
      "outputs": []
    },
    {
      "cell_type": "code",
      "metadata": {
        "colab": {
          "base_uri": "https://localhost:8080/"
        },
        "id": "n1At3CJPslyC",
        "outputId": "247ff9df-1062-4c67-ddb7-92e32988bbb2"
      },
      "source": [
        "n"
      ],
      "execution_count": null,
      "outputs": [
        {
          "output_type": "execute_result",
          "data": {
            "text/plain": [
              "10"
            ]
          },
          "metadata": {
            "tags": []
          },
          "execution_count": 20
        }
      ]
    },
    {
      "cell_type": "markdown",
      "metadata": {
        "id": "Jp-FDTKCsm-A"
      },
      "source": [
        "**Note:** We can use the inbuilt function type() to know what type of data a variable holds."
      ]
    },
    {
      "cell_type": "code",
      "metadata": {
        "colab": {
          "base_uri": "https://localhost:8080/"
        },
        "id": "-CObLCa1smDv",
        "outputId": "dc4117b4-9ea5-4520-b4e5-ca191961cdcb"
      },
      "source": [
        "type(n)"
      ],
      "execution_count": null,
      "outputs": [
        {
          "output_type": "execute_result",
          "data": {
            "text/plain": [
              "int"
            ]
          },
          "metadata": {
            "tags": []
          },
          "execution_count": 21
        }
      ]
    },
    {
      "cell_type": "markdown",
      "metadata": {
        "id": "UbNd0VZSs5T3"
      },
      "source": [
        "### **Float**\n",
        "\n",
        "This data type holds floating point values like 15.6, 0.3, etc."
      ]
    },
    {
      "cell_type": "code",
      "metadata": {
        "id": "d_ZLRWrXsyzD"
      },
      "source": [
        "f = 102.34"
      ],
      "execution_count": null,
      "outputs": []
    },
    {
      "cell_type": "code",
      "metadata": {
        "colab": {
          "base_uri": "https://localhost:8080/"
        },
        "id": "vnkF6rhatIMm",
        "outputId": "ae837e36-a32e-4ce6-cb27-db83ca3519d4"
      },
      "source": [
        "f"
      ],
      "execution_count": null,
      "outputs": [
        {
          "output_type": "execute_result",
          "data": {
            "text/plain": [
              "102.34"
            ]
          },
          "metadata": {
            "tags": []
          },
          "execution_count": 23
        }
      ]
    },
    {
      "cell_type": "code",
      "metadata": {
        "colab": {
          "base_uri": "https://localhost:8080/"
        },
        "id": "dABOWST5tIgn",
        "outputId": "ecada8c9-e264-4867-f4c0-25dabe011ef0"
      },
      "source": [
        "type(f)"
      ],
      "execution_count": null,
      "outputs": [
        {
          "output_type": "execute_result",
          "data": {
            "text/plain": [
              "float"
            ]
          },
          "metadata": {
            "tags": []
          },
          "execution_count": 24
        }
      ]
    },
    {
      "cell_type": "markdown",
      "metadata": {
        "id": "9fPaVPXgtUp1"
      },
      "source": [
        "Another way of representing floating point values is by using the scientific notation. Scientific notations are generally used for vary large or very small values like 98000000000 as 9.8e10 , 0.0000005 as 5e-7, etc"
      ]
    },
    {
      "cell_type": "code",
      "metadata": {
        "id": "x0congyRtJIm"
      },
      "source": [
        "g = 1.234e5"
      ],
      "execution_count": null,
      "outputs": []
    },
    {
      "cell_type": "code",
      "metadata": {
        "colab": {
          "base_uri": "https://localhost:8080/"
        },
        "id": "y1n-uGzStSJ3",
        "outputId": "6f2b3493-fb1e-4c03-c7a1-c18fe0da11dc"
      },
      "source": [
        "g"
      ],
      "execution_count": null,
      "outputs": [
        {
          "output_type": "execute_result",
          "data": {
            "text/plain": [
              "123400.0"
            ]
          },
          "metadata": {
            "tags": []
          },
          "execution_count": 26
        }
      ]
    },
    {
      "cell_type": "code",
      "metadata": {
        "colab": {
          "base_uri": "https://localhost:8080/"
        },
        "id": "zfhAuL7VtSZY",
        "outputId": "678bf2a7-aeea-4e7f-de0b-a9f10a2e7348"
      },
      "source": [
        "type(g)"
      ],
      "execution_count": null,
      "outputs": [
        {
          "output_type": "execute_result",
          "data": {
            "text/plain": [
              "float"
            ]
          },
          "metadata": {
            "tags": []
          },
          "execution_count": 27
        }
      ]
    },
    {
      "cell_type": "markdown",
      "metadata": {
        "id": "n6ehi16QuohZ"
      },
      "source": [
        "### **String**\n",
        "\n",
        "String is actually a collection of characters. You can access each character of a string using indices."
      ]
    },
    {
      "cell_type": "code",
      "metadata": {
        "id": "O1ZKHzX6uV1S"
      },
      "source": [
        "s = \"Hello\""
      ],
      "execution_count": null,
      "outputs": []
    },
    {
      "cell_type": "code",
      "metadata": {
        "colab": {
          "base_uri": "https://localhost:8080/",
          "height": 35
        },
        "id": "gXkSzlX2x8PP",
        "outputId": "113b68d0-1eda-42ee-ff2e-aa3b98ba0e54"
      },
      "source": [
        "s"
      ],
      "execution_count": null,
      "outputs": [
        {
          "output_type": "execute_result",
          "data": {
            "application/vnd.google.colaboratory.intrinsic+json": {
              "type": "string"
            },
            "text/plain": [
              "'Hello'"
            ]
          },
          "metadata": {
            "tags": []
          },
          "execution_count": 4
        }
      ]
    },
    {
      "cell_type": "markdown",
      "metadata": {
        "id": "mxSHoJSQyW_i"
      },
      "source": [
        "Here the variable **s** contains the string value \"hello\". And we can access each character in this string using index. The index starts from 0 upto *n-1* where *n* is the number of characters in the string.\n",
        "<br><br>\n",
        "**Note:** The len() function can be used to find the length of the string. It can be used for other data types like list, tuple, etc to find the length or the number of elements it has."
      ]
    },
    {
      "cell_type": "code",
      "metadata": {
        "colab": {
          "base_uri": "https://localhost:8080/",
          "height": 35
        },
        "id": "pyd59OV5x8ip",
        "outputId": "8dc8a5bc-2822-46c3-95a1-dddb095998fb"
      },
      "source": [
        "s[0]"
      ],
      "execution_count": null,
      "outputs": [
        {
          "output_type": "execute_result",
          "data": {
            "application/vnd.google.colaboratory.intrinsic+json": {
              "type": "string"
            },
            "text/plain": [
              "'H'"
            ]
          },
          "metadata": {
            "tags": []
          },
          "execution_count": 5
        }
      ]
    },
    {
      "cell_type": "code",
      "metadata": {
        "colab": {
          "base_uri": "https://localhost:8080/",
          "height": 35
        },
        "id": "FD3dFh9izP9p",
        "outputId": "043e2722-c5b6-43b8-ea2a-2fd0babdf07b"
      },
      "source": [
        "s[4]"
      ],
      "execution_count": null,
      "outputs": [
        {
          "output_type": "execute_result",
          "data": {
            "application/vnd.google.colaboratory.intrinsic+json": {
              "type": "string"
            },
            "text/plain": [
              "'o'"
            ]
          },
          "metadata": {
            "tags": []
          },
          "execution_count": 6
        }
      ]
    },
    {
      "cell_type": "code",
      "metadata": {
        "colab": {
          "base_uri": "https://localhost:8080/",
          "height": 162
        },
        "id": "ZfZBwpfMzSYQ",
        "outputId": "79b61bb0-1a8f-4433-c958-19d5bab75a3a"
      },
      "source": [
        "s[5]"
      ],
      "execution_count": null,
      "outputs": [
        {
          "output_type": "error",
          "ename": "IndexError",
          "evalue": "ignored",
          "traceback": [
            "\u001b[0;31m---------------------------------------------------------------------------\u001b[0m",
            "\u001b[0;31mIndexError\u001b[0m                                Traceback (most recent call last)",
            "\u001b[0;32m<ipython-input-7-b5dece75d686>\u001b[0m in \u001b[0;36m<module>\u001b[0;34m()\u001b[0m\n\u001b[0;32m----> 1\u001b[0;31m \u001b[0ms\u001b[0m\u001b[0;34m[\u001b[0m\u001b[0;36m5\u001b[0m\u001b[0;34m]\u001b[0m\u001b[0;34m\u001b[0m\u001b[0;34m\u001b[0m\u001b[0m\n\u001b[0m",
            "\u001b[0;31mIndexError\u001b[0m: string index out of range"
          ]
        }
      ]
    },
    {
      "cell_type": "code",
      "metadata": {
        "colab": {
          "base_uri": "https://localhost:8080/"
        },
        "id": "m-VCjYMezUDB",
        "outputId": "148ba470-b56c-40ed-d1fc-53daae3785b1"
      },
      "source": [
        "len(s)"
      ],
      "execution_count": null,
      "outputs": [
        {
          "output_type": "execute_result",
          "data": {
            "text/plain": [
              "5"
            ]
          },
          "metadata": {
            "tags": []
          },
          "execution_count": 8
        }
      ]
    },
    {
      "cell_type": "markdown",
      "metadata": {
        "id": "G1Xa0fi2zerw"
      },
      "source": [
        "Python has a very powerful feature called negative indexing, which cannot be seen in other programming languages. Negative indexing starts from -1 to *-n* where *n* is the total number of elements. Normal indexing starts from 0 to n-1 which is from the beginning of the elements to the end, but here it starts from the end and moves to the beginning.<br>\n",
        "* -1 index is the index of the last element which is equivalent to n-1. \n",
        "* Thus -2 index is similar to n-2. \n",
        "* As we go on like this we will reach the beginning that is -n which is similar 0."
      ]
    },
    {
      "cell_type": "code",
      "metadata": {
        "colab": {
          "base_uri": "https://localhost:8080/",
          "height": 35
        },
        "id": "yG0WJCqgzbcY",
        "outputId": "c9672d19-c37a-4b80-85b6-0fecf2d59567"
      },
      "source": [
        "s[-1]"
      ],
      "execution_count": null,
      "outputs": [
        {
          "output_type": "execute_result",
          "data": {
            "application/vnd.google.colaboratory.intrinsic+json": {
              "type": "string"
            },
            "text/plain": [
              "'o'"
            ]
          },
          "metadata": {
            "tags": []
          },
          "execution_count": 9
        }
      ]
    },
    {
      "cell_type": "code",
      "metadata": {
        "colab": {
          "base_uri": "https://localhost:8080/",
          "height": 35
        },
        "id": "npJHNEhI07Rg",
        "outputId": "481f825b-9fc2-4258-f142-7e108f3bc6c3"
      },
      "source": [
        "s[-5]"
      ],
      "execution_count": null,
      "outputs": [
        {
          "output_type": "execute_result",
          "data": {
            "application/vnd.google.colaboratory.intrinsic+json": {
              "type": "string"
            },
            "text/plain": [
              "'H'"
            ]
          },
          "metadata": {
            "tags": []
          },
          "execution_count": 10
        }
      ]
    },
    {
      "cell_type": "markdown",
      "metadata": {
        "id": "EE6S3IJ00-2T"
      },
      "source": [
        "### **List**\n",
        "\n",
        "List is a collection of heterogeneous data (i.e, different types of data like int, float, string, etc). List is represented using square brackets '[' and ']'. List also has indexing. Each element in the list can be accessed using indices."
      ]
    },
    {
      "cell_type": "code",
      "metadata": {
        "id": "vqTaBnNq08g4"
      },
      "source": [
        "l = [1, 2.5, \"abc\"]"
      ],
      "execution_count": null,
      "outputs": []
    },
    {
      "cell_type": "code",
      "metadata": {
        "colab": {
          "base_uri": "https://localhost:8080/"
        },
        "id": "wyF9RSG-1hr_",
        "outputId": "f972c0ce-a4d4-4d68-98f8-794927329136"
      },
      "source": [
        "l"
      ],
      "execution_count": null,
      "outputs": [
        {
          "output_type": "execute_result",
          "data": {
            "text/plain": [
              "[1, 2.5, 'abc']"
            ]
          },
          "metadata": {
            "tags": []
          },
          "execution_count": 12
        }
      ]
    },
    {
      "cell_type": "code",
      "metadata": {
        "colab": {
          "base_uri": "https://localhost:8080/"
        },
        "id": "Sg6W_XWu1h8X",
        "outputId": "62a0e97b-bd0b-499b-d0cd-f4b0f1d30e5f"
      },
      "source": [
        "l[1]"
      ],
      "execution_count": null,
      "outputs": [
        {
          "output_type": "execute_result",
          "data": {
            "text/plain": [
              "2.5"
            ]
          },
          "metadata": {
            "tags": []
          },
          "execution_count": 13
        }
      ]
    },
    {
      "cell_type": "code",
      "metadata": {
        "colab": {
          "base_uri": "https://localhost:8080/"
        },
        "id": "dzMaXmfO1kR_",
        "outputId": "061de79a-979a-44c7-f9e3-e23d6ead34ca"
      },
      "source": [
        "len(l)"
      ],
      "execution_count": null,
      "outputs": [
        {
          "output_type": "execute_result",
          "data": {
            "text/plain": [
              "3"
            ]
          },
          "metadata": {
            "tags": []
          },
          "execution_count": 14
        }
      ]
    },
    {
      "cell_type": "markdown",
      "metadata": {
        "id": "Fp59MTI51usk"
      },
      "source": [
        "A list inside another list is called a nested list. To access the individual elements of the list that is inside the list, then you can use the indexing like the example given below."
      ]
    },
    {
      "cell_type": "code",
      "metadata": {
        "id": "9lFVybJI1li_"
      },
      "source": [
        "k = [1, 2, 3, [10, 20, 30]]"
      ],
      "execution_count": null,
      "outputs": []
    },
    {
      "cell_type": "code",
      "metadata": {
        "colab": {
          "base_uri": "https://localhost:8080/"
        },
        "id": "7LdFJErr1tof",
        "outputId": "0c295200-f630-44dd-b4f8-567856e9e75c"
      },
      "source": [
        "k"
      ],
      "execution_count": null,
      "outputs": [
        {
          "output_type": "execute_result",
          "data": {
            "text/plain": [
              "[1, 2, 3, [10, 20, 30]]"
            ]
          },
          "metadata": {
            "tags": []
          },
          "execution_count": 17
        }
      ]
    },
    {
      "cell_type": "code",
      "metadata": {
        "colab": {
          "base_uri": "https://localhost:8080/"
        },
        "id": "IVLnF_5g12PH",
        "outputId": "9e58ccfa-b7ca-4951-f53a-7d8fd0792b9f"
      },
      "source": [
        "k[3]"
      ],
      "execution_count": null,
      "outputs": [
        {
          "output_type": "execute_result",
          "data": {
            "text/plain": [
              "[10, 20, 30]"
            ]
          },
          "metadata": {
            "tags": []
          },
          "execution_count": 18
        }
      ]
    },
    {
      "cell_type": "code",
      "metadata": {
        "colab": {
          "base_uri": "https://localhost:8080/"
        },
        "id": "LkQNPHmD13zX",
        "outputId": "fc69da91-2608-4130-b4f9-9551460137d4"
      },
      "source": [
        "k[3][1]"
      ],
      "execution_count": null,
      "outputs": [
        {
          "output_type": "execute_result",
          "data": {
            "text/plain": [
              "20"
            ]
          },
          "metadata": {
            "tags": []
          },
          "execution_count": 19
        }
      ]
    },
    {
      "cell_type": "markdown",
      "metadata": {
        "id": "_PVOlJOR7sxc"
      },
      "source": [
        "### **Tuple**\n",
        "\n",
        "Tuple is similar to list, but the difference is that tuple is represented using brackets and they are immutable unlike list that are mutable. All other properties are similar to that of the list data type.<br>\n",
        "Brackets are not actually necessary for initializing a tuple, we can just use comma to separate each elements in the tuple. <br>\n",
        "*There is a special case where we make a tuple with only one element. To do that we need to use the comma after that only element. Eg: (10,) or simply 10,*\n"
      ]
    },
    {
      "cell_type": "code",
      "metadata": {
        "id": "aT4WmNrF16Kn"
      },
      "source": [
        "t1 = 1, 2, 3    # we can use (1, 2, 3) also"
      ],
      "execution_count": null,
      "outputs": []
    },
    {
      "cell_type": "code",
      "metadata": {
        "colab": {
          "base_uri": "https://localhost:8080/"
        },
        "id": "t4Ux6P8N_4hK",
        "outputId": "3d35ca29-0d23-4e7b-f304-8e2ca331ea79"
      },
      "source": [
        "t1"
      ],
      "execution_count": null,
      "outputs": [
        {
          "output_type": "execute_result",
          "data": {
            "text/plain": [
              "(1, 2, 3)"
            ]
          },
          "metadata": {
            "tags": []
          },
          "execution_count": 28
        }
      ]
    },
    {
      "cell_type": "code",
      "metadata": {
        "id": "yIAA95js_5El"
      },
      "source": [
        "t2 = 10,        # we can also use (10,)  "
      ],
      "execution_count": null,
      "outputs": []
    },
    {
      "cell_type": "code",
      "metadata": {
        "colab": {
          "base_uri": "https://localhost:8080/"
        },
        "id": "hIpU_UsY_-Dd",
        "outputId": "79b0209f-269c-4682-e86e-bf0b900314fc"
      },
      "source": [
        "t2"
      ],
      "execution_count": null,
      "outputs": [
        {
          "output_type": "execute_result",
          "data": {
            "text/plain": [
              "(10,)"
            ]
          },
          "metadata": {
            "tags": []
          },
          "execution_count": 30
        }
      ]
    },
    {
      "cell_type": "markdown",
      "metadata": {
        "id": "wBD1zBSzAInJ"
      },
      "source": [
        "#### **Mutable Data Types**\n",
        "These are data types whose elements can be changed after initialization. <br>\n",
        "Examples are list, dictionary, etc.<br>\n",
        "We can change the value of any element using the index.\n"
      ]
    },
    {
      "cell_type": "code",
      "metadata": {
        "colab": {
          "base_uri": "https://localhost:8080/"
        },
        "id": "r7zXa9M6_-Yd",
        "outputId": "125a3362-7c24-46cd-9426-6e8ff9bcf0fc"
      },
      "source": [
        "l = [10, 20, 30, 40]\n",
        "l"
      ],
      "execution_count": null,
      "outputs": [
        {
          "output_type": "execute_result",
          "data": {
            "text/plain": [
              "[10, 20, 30, 40]"
            ]
          },
          "metadata": {
            "tags": []
          },
          "execution_count": 31
        }
      ]
    },
    {
      "cell_type": "code",
      "metadata": {
        "colab": {
          "base_uri": "https://localhost:8080/"
        },
        "id": "jOIqDVyEAS-c",
        "outputId": "2914a3e8-d109-4d08-8ec2-4f1efe6e433a"
      },
      "source": [
        "l[2] = 100\n",
        "l"
      ],
      "execution_count": null,
      "outputs": [
        {
          "output_type": "execute_result",
          "data": {
            "text/plain": [
              "[10, 20, 100, 40]"
            ]
          },
          "metadata": {
            "tags": []
          },
          "execution_count": 32
        }
      ]
    },
    {
      "cell_type": "markdown",
      "metadata": {
        "id": "1A6SZaG5AL34"
      },
      "source": [
        "#### **Immutable Data Types**\n",
        "These data types cannot be changed after initialization. <br>\n",
        "Examples are tuple, string, etc."
      ]
    },
    {
      "cell_type": "code",
      "metadata": {
        "colab": {
          "base_uri": "https://localhost:8080/",
          "height": 35
        },
        "id": "RYa--lcDAYVH",
        "outputId": "bed1c276-9119-4852-f220-9dea574322be"
      },
      "source": [
        "s = \"hello\"\n",
        "s"
      ],
      "execution_count": null,
      "outputs": [
        {
          "output_type": "execute_result",
          "data": {
            "application/vnd.google.colaboratory.intrinsic+json": {
              "type": "string"
            },
            "text/plain": [
              "'hello'"
            ]
          },
          "metadata": {
            "tags": []
          },
          "execution_count": 33
        }
      ]
    },
    {
      "cell_type": "code",
      "metadata": {
        "colab": {
          "base_uri": "https://localhost:8080/",
          "height": 162
        },
        "id": "ILK1t3mrAa5C",
        "outputId": "f71265f2-48b2-4838-aff5-ee17e8adb72e"
      },
      "source": [
        "s[0] = \"H\""
      ],
      "execution_count": null,
      "outputs": [
        {
          "output_type": "error",
          "ename": "TypeError",
          "evalue": "ignored",
          "traceback": [
            "\u001b[0;31m---------------------------------------------------------------------------\u001b[0m",
            "\u001b[0;31mTypeError\u001b[0m                                 Traceback (most recent call last)",
            "\u001b[0;32m<ipython-input-34-ca3e7d000bd5>\u001b[0m in \u001b[0;36m<module>\u001b[0;34m()\u001b[0m\n\u001b[0;32m----> 1\u001b[0;31m \u001b[0ms\u001b[0m\u001b[0;34m[\u001b[0m\u001b[0;36m0\u001b[0m\u001b[0;34m]\u001b[0m \u001b[0;34m=\u001b[0m \u001b[0;34m\"H\"\u001b[0m\u001b[0;34m\u001b[0m\u001b[0;34m\u001b[0m\u001b[0m\n\u001b[0m",
            "\u001b[0;31mTypeError\u001b[0m: 'str' object does not support item assignment"
          ]
        }
      ]
    },
    {
      "cell_type": "code",
      "metadata": {
        "colab": {
          "base_uri": "https://localhost:8080/"
        },
        "id": "QvnJiMTbAdxS",
        "outputId": "1cbf70cb-1325-43ca-fee3-338993d9f37a"
      },
      "source": [
        "t = (1, 2, 3)\n",
        "t"
      ],
      "execution_count": null,
      "outputs": [
        {
          "output_type": "execute_result",
          "data": {
            "text/plain": [
              "(1, 2, 3)"
            ]
          },
          "metadata": {
            "tags": []
          },
          "execution_count": 35
        }
      ]
    },
    {
      "cell_type": "code",
      "metadata": {
        "colab": {
          "base_uri": "https://localhost:8080/",
          "height": 162
        },
        "id": "0YGydGCGAhK6",
        "outputId": "f24ed02f-21f2-4dc0-ce1c-391db54dcc2b"
      },
      "source": [
        "t[1] = 10"
      ],
      "execution_count": null,
      "outputs": [
        {
          "output_type": "error",
          "ename": "TypeError",
          "evalue": "ignored",
          "traceback": [
            "\u001b[0;31m---------------------------------------------------------------------------\u001b[0m",
            "\u001b[0;31mTypeError\u001b[0m                                 Traceback (most recent call last)",
            "\u001b[0;32m<ipython-input-36-5a9388635924>\u001b[0m in \u001b[0;36m<module>\u001b[0;34m()\u001b[0m\n\u001b[0;32m----> 1\u001b[0;31m \u001b[0mt\u001b[0m\u001b[0;34m[\u001b[0m\u001b[0;36m1\u001b[0m\u001b[0;34m]\u001b[0m \u001b[0;34m=\u001b[0m \u001b[0;36m10\u001b[0m\u001b[0;34m\u001b[0m\u001b[0;34m\u001b[0m\u001b[0m\n\u001b[0m",
            "\u001b[0;31mTypeError\u001b[0m: 'tuple' object does not support item assignment"
          ]
        }
      ]
    },
    {
      "cell_type": "markdown",
      "metadata": {
        "id": "xj3x9opgAl0Z"
      },
      "source": [
        "### **Set**\n",
        "Set is a data type is similar to list that it is a collection of heterogeneous data, but the main difference is that it will contain only unique elements. Set is represented using curly braces { and }. Even if we initialize a set with duplicate values, it will hold only one copy of the value.<br><br>\n",
        "Set does not have index."
      ]
    },
    {
      "cell_type": "code",
      "metadata": {
        "id": "775XbBXMAiZS"
      },
      "source": [
        "st = {1, 1.5, \"abc\", 1, 1, 1.2}"
      ],
      "execution_count": null,
      "outputs": []
    },
    {
      "cell_type": "code",
      "metadata": {
        "colab": {
          "base_uri": "https://localhost:8080/"
        },
        "id": "R669_cs0BCaA",
        "outputId": "35aea221-a86b-40f3-ba47-1121b468614c"
      },
      "source": [
        "st    # there were three 1 in the initialization set but only one 1 in the actual set."
      ],
      "execution_count": null,
      "outputs": [
        {
          "output_type": "execute_result",
          "data": {
            "text/plain": [
              "{1, 1.2, 1.5, 'abc'}"
            ]
          },
          "metadata": {
            "tags": []
          },
          "execution_count": 40
        }
      ]
    },
    {
      "cell_type": "code",
      "metadata": {
        "colab": {
          "base_uri": "https://localhost:8080/",
          "height": 162
        },
        "id": "H-cUJk5fBCnI",
        "outputId": "5007504c-f2ce-4225-c4ba-a3e3f33ca7ba"
      },
      "source": [
        "st[0]"
      ],
      "execution_count": null,
      "outputs": [
        {
          "output_type": "error",
          "ename": "TypeError",
          "evalue": "ignored",
          "traceback": [
            "\u001b[0;31m---------------------------------------------------------------------------\u001b[0m",
            "\u001b[0;31mTypeError\u001b[0m                                 Traceback (most recent call last)",
            "\u001b[0;32m<ipython-input-41-028cc1d9138b>\u001b[0m in \u001b[0;36m<module>\u001b[0;34m()\u001b[0m\n\u001b[0;32m----> 1\u001b[0;31m \u001b[0mst\u001b[0m\u001b[0;34m[\u001b[0m\u001b[0;36m0\u001b[0m\u001b[0;34m]\u001b[0m\u001b[0;34m\u001b[0m\u001b[0;34m\u001b[0m\u001b[0m\n\u001b[0m",
            "\u001b[0;31mTypeError\u001b[0m: 'set' object is not subscriptable"
          ]
        }
      ]
    },
    {
      "cell_type": "markdown",
      "metadata": {
        "id": "PhVuydLmB22T"
      },
      "source": [
        "### **Dcitionary**\n",
        "Dictionary is a very important data type in python. It is also represented using curly braces { and } like set. But it contains elements in the form of key-value pairs. These keys can be used to access the value it holds just like indices. <br>\n",
        "**Note:** The key should be an immutable data type. Value can be any data type like list, string or even dictionary (nested dictionary).\n",
        "<br>\n",
        "We can use the following functions:\n",
        "* **keys()**: will return a list of keys the dictionary holds.\n",
        "* **values()**: will return a list of values the dictionary holds.\n",
        "* **items()**: will return the key-value pairs (as tuple values) the dictionary has."
      ]
    },
    {
      "cell_type": "code",
      "metadata": {
        "id": "TY18mCZHBa5w"
      },
      "source": [
        "d = {\"one\":1, \"two\":2, \"three\":3}"
      ],
      "execution_count": null,
      "outputs": []
    },
    {
      "cell_type": "code",
      "metadata": {
        "colab": {
          "base_uri": "https://localhost:8080/"
        },
        "id": "kufFW3juCsyF",
        "outputId": "dffe16bc-b2ea-4283-f7da-8284aa020615"
      },
      "source": [
        "d"
      ],
      "execution_count": null,
      "outputs": [
        {
          "output_type": "execute_result",
          "data": {
            "text/plain": [
              "{'one': 1, 'three': 3, 'two': 2}"
            ]
          },
          "metadata": {
            "tags": []
          },
          "execution_count": 43
        }
      ]
    },
    {
      "cell_type": "code",
      "metadata": {
        "colab": {
          "base_uri": "https://localhost:8080/"
        },
        "id": "r5_6WapTCs7i",
        "outputId": "26a6b8a7-fd73-4f3d-d330-4e6ba26968c9"
      },
      "source": [
        "d[\"one\"]"
      ],
      "execution_count": null,
      "outputs": [
        {
          "output_type": "execute_result",
          "data": {
            "text/plain": [
              "1"
            ]
          },
          "metadata": {
            "tags": []
          },
          "execution_count": 44
        }
      ]
    },
    {
      "cell_type": "code",
      "metadata": {
        "colab": {
          "base_uri": "https://localhost:8080/"
        },
        "id": "GUGvHPH1CufT",
        "outputId": "872639ee-eadb-4459-d536-ed442883cd89"
      },
      "source": [
        "d.keys()"
      ],
      "execution_count": null,
      "outputs": [
        {
          "output_type": "execute_result",
          "data": {
            "text/plain": [
              "dict_keys(['one', 'two', 'three'])"
            ]
          },
          "metadata": {
            "tags": []
          },
          "execution_count": 45
        }
      ]
    },
    {
      "cell_type": "code",
      "metadata": {
        "colab": {
          "base_uri": "https://localhost:8080/"
        },
        "id": "aVAFKcsuDOna",
        "outputId": "76ca8421-9c35-4c09-8657-f1c6e4631a74"
      },
      "source": [
        "d.values()"
      ],
      "execution_count": null,
      "outputs": [
        {
          "output_type": "execute_result",
          "data": {
            "text/plain": [
              "dict_values([1, 2, 3])"
            ]
          },
          "metadata": {
            "tags": []
          },
          "execution_count": 46
        }
      ]
    },
    {
      "cell_type": "code",
      "metadata": {
        "colab": {
          "base_uri": "https://localhost:8080/"
        },
        "id": "VsgLZXLdDPlC",
        "outputId": "b22ef673-606e-4e06-8403-24899dad9d0c"
      },
      "source": [
        "d.items()"
      ],
      "execution_count": null,
      "outputs": [
        {
          "output_type": "execute_result",
          "data": {
            "text/plain": [
              "dict_items([('one', 1), ('two', 2), ('three', 3)])"
            ]
          },
          "metadata": {
            "tags": []
          },
          "execution_count": 47
        }
      ]
    },
    {
      "cell_type": "markdown",
      "metadata": {
        "id": "5SUJhzCdEqzT"
      },
      "source": [
        "## **Python Operators**\n",
        "\n",
        "There are various operators in python using which we perform certain calculations and other tasks on operands. Operands are the values on which the operator performs the operation.<br>\n",
        "Types of Operators in python are:\n",
        "* Arithmetic Operator\n",
        "* Conditional Operator\n",
        "* Logical Operator\n",
        "* Assignment Operator\n"
      ]
    },
    {
      "cell_type": "markdown",
      "metadata": {
        "id": "DJPlnkpIEvsD"
      },
      "source": [
        "### **Arithmetic Operators**\n",
        "These are operators perform the basic arithmetic operations.\n",
        "* Addition (+)\n",
        "* Subtraction (-)\n",
        "* Multiplication (*)\n",
        "* Division (/)\n",
        "\n",
        "Python has two other arithmetic operators other than these.\n",
        "* Remainder or Modulus (%)\n",
        "* Floor Division (//)\n",
        "* Exponent (**)"
      ]
    },
    {
      "cell_type": "code",
      "metadata": {
        "colab": {
          "base_uri": "https://localhost:8080/"
        },
        "id": "l4LKtCGFkNDe",
        "outputId": "9b9eefd3-67b3-4788-9c3e-4964cd1c5436"
      },
      "source": [
        "# addition\n",
        "10 + 5"
      ],
      "execution_count": 1,
      "outputs": [
        {
          "output_type": "execute_result",
          "data": {
            "text/plain": [
              "15"
            ]
          },
          "metadata": {
            "tags": []
          },
          "execution_count": 1
        }
      ]
    },
    {
      "cell_type": "code",
      "metadata": {
        "colab": {
          "base_uri": "https://localhost:8080/"
        },
        "id": "QC27CAiwlHnw",
        "outputId": "b787d047-84c7-4076-fdb7-8bbc28bcb3f6"
      },
      "source": [
        "# subtraction\n",
        "10 - 5"
      ],
      "execution_count": 2,
      "outputs": [
        {
          "output_type": "execute_result",
          "data": {
            "text/plain": [
              "5"
            ]
          },
          "metadata": {
            "tags": []
          },
          "execution_count": 2
        }
      ]
    },
    {
      "cell_type": "code",
      "metadata": {
        "colab": {
          "base_uri": "https://localhost:8080/"
        },
        "id": "HZZS2k35lHjZ",
        "outputId": "4e11973a-241b-4bf0-b0fd-9d4c7e794c65"
      },
      "source": [
        "# multiplication\n",
        "10 * 5"
      ],
      "execution_count": 3,
      "outputs": [
        {
          "output_type": "execute_result",
          "data": {
            "text/plain": [
              "50"
            ]
          },
          "metadata": {
            "tags": []
          },
          "execution_count": 3
        }
      ]
    },
    {
      "cell_type": "code",
      "metadata": {
        "colab": {
          "base_uri": "https://localhost:8080/"
        },
        "id": "WG9f6sO5lHcr",
        "outputId": "22ae7128-d59a-419d-f4ca-92c2d6c2f73c"
      },
      "source": [
        "# division\n",
        "10 / 4"
      ],
      "execution_count": 7,
      "outputs": [
        {
          "output_type": "execute_result",
          "data": {
            "text/plain": [
              "2.5"
            ]
          },
          "metadata": {
            "tags": []
          },
          "execution_count": 7
        }
      ]
    },
    {
      "cell_type": "code",
      "metadata": {
        "colab": {
          "base_uri": "https://localhost:8080/"
        },
        "id": "fslO6kOtlHWX",
        "outputId": "b8339f14-6710-4939-a776-9ff45528b864"
      },
      "source": [
        "# remainder or modulus\n",
        "10 % 4    # when we divide 10 by 4 we get the remainder of 2"
      ],
      "execution_count": 6,
      "outputs": [
        {
          "output_type": "execute_result",
          "data": {
            "text/plain": [
              "2"
            ]
          },
          "metadata": {
            "tags": []
          },
          "execution_count": 6
        }
      ]
    },
    {
      "cell_type": "code",
      "metadata": {
        "colab": {
          "base_uri": "https://localhost:8080/"
        },
        "id": "tNDXJvzFlHPC",
        "outputId": "d42e6174-390e-4dac-b7d6-67a40f960123"
      },
      "source": [
        "# floor division\n",
        "10 // 4"
      ],
      "execution_count": 10,
      "outputs": [
        {
          "output_type": "execute_result",
          "data": {
            "text/plain": [
              "2"
            ]
          },
          "metadata": {
            "tags": []
          },
          "execution_count": 10
        }
      ]
    },
    {
      "cell_type": "markdown",
      "metadata": {
        "id": "BY1Ghid1lu_q"
      },
      "source": [
        "**Note:** Division of always returns float values for integer operands. But floor division returns the integer value. "
      ]
    },
    {
      "cell_type": "code",
      "metadata": {
        "colab": {
          "base_uri": "https://localhost:8080/"
        },
        "id": "nw4c3Cc3r69R",
        "outputId": "d1e46e51-d836-4086-cb65-6f22ce449d31"
      },
      "source": [
        "# exponent\n",
        "3 ** 2    # this is 3 to the power 2 which is 3*3 = 9"
      ],
      "execution_count": 38,
      "outputs": [
        {
          "output_type": "execute_result",
          "data": {
            "text/plain": [
              "9"
            ]
          },
          "metadata": {
            "tags": []
          },
          "execution_count": 38
        }
      ]
    },
    {
      "cell_type": "markdown",
      "metadata": {
        "id": "fvGLRaYjjM9a"
      },
      "source": [
        "### **Conditional Operators**\n",
        "These operators are used to form a condition to check whether the condition is true or false. \n",
        "* Equal to (==)\n",
        "* Not equal to (!=)\n",
        "* Greater than (>)\n",
        "* Less than (<)\n",
        "* Greater than or equal to (>=)\n",
        "* Less than or equal to (<=)"
      ]
    },
    {
      "cell_type": "code",
      "metadata": {
        "colab": {
          "base_uri": "https://localhost:8080/"
        },
        "id": "2WJYCJMQny5W",
        "outputId": "a230912c-f651-4e20-c8a8-0c4af43f2467"
      },
      "source": [
        "# equal to\n",
        "10 == 15"
      ],
      "execution_count": 19,
      "outputs": [
        {
          "output_type": "execute_result",
          "data": {
            "text/plain": [
              "False"
            ]
          },
          "metadata": {
            "tags": []
          },
          "execution_count": 19
        }
      ]
    },
    {
      "cell_type": "code",
      "metadata": {
        "colab": {
          "base_uri": "https://localhost:8080/"
        },
        "id": "yqS64BErnyyP",
        "outputId": "30feed52-c32a-4a5c-9b20-f4f74f430943"
      },
      "source": [
        "# not equal to \n",
        "5 != 6"
      ],
      "execution_count": 20,
      "outputs": [
        {
          "output_type": "execute_result",
          "data": {
            "text/plain": [
              "True"
            ]
          },
          "metadata": {
            "tags": []
          },
          "execution_count": 20
        }
      ]
    },
    {
      "cell_type": "code",
      "metadata": {
        "colab": {
          "base_uri": "https://localhost:8080/"
        },
        "id": "MH5O4zTInyux",
        "outputId": "ba25a37e-2897-49c0-f91c-e9cdd8093489"
      },
      "source": [
        "# greater than\n",
        "5 > 6"
      ],
      "execution_count": 21,
      "outputs": [
        {
          "output_type": "execute_result",
          "data": {
            "text/plain": [
              "False"
            ]
          },
          "metadata": {
            "tags": []
          },
          "execution_count": 21
        }
      ]
    },
    {
      "cell_type": "code",
      "metadata": {
        "colab": {
          "base_uri": "https://localhost:8080/"
        },
        "id": "8mDLzhZTnyrl",
        "outputId": "df66c79d-1c47-4d35-dd22-32c1086b9351"
      },
      "source": [
        "# less than\n",
        "5 < 6"
      ],
      "execution_count": 22,
      "outputs": [
        {
          "output_type": "execute_result",
          "data": {
            "text/plain": [
              "True"
            ]
          },
          "metadata": {
            "tags": []
          },
          "execution_count": 22
        }
      ]
    },
    {
      "cell_type": "code",
      "metadata": {
        "colab": {
          "base_uri": "https://localhost:8080/"
        },
        "id": "vmy0jk5OnyVQ",
        "outputId": "a1ffd604-0d37-414a-ca97-663c52aebb27"
      },
      "source": [
        "# greater than or equal to\n",
        "5 >= 5"
      ],
      "execution_count": 23,
      "outputs": [
        {
          "output_type": "execute_result",
          "data": {
            "text/plain": [
              "True"
            ]
          },
          "metadata": {
            "tags": []
          },
          "execution_count": 23
        }
      ]
    },
    {
      "cell_type": "code",
      "metadata": {
        "colab": {
          "base_uri": "https://localhost:8080/"
        },
        "id": "LRgy6k2MooHo",
        "outputId": "99e522bf-af46-4874-d514-0f5deb7ea521"
      },
      "source": [
        "# less than or equal to \n",
        "6 <= 6"
      ],
      "execution_count": 24,
      "outputs": [
        {
          "output_type": "execute_result",
          "data": {
            "text/plain": [
              "True"
            ]
          },
          "metadata": {
            "tags": []
          },
          "execution_count": 24
        }
      ]
    },
    {
      "cell_type": "markdown",
      "metadata": {
        "id": "60COn72QEyal"
      },
      "source": [
        "### **Logical Operators**\n",
        "Python has the three basic logical operators in it.\n",
        "* AND operator (and)\n",
        "* OR operator (or)\n",
        "* NOT operator (not)\n",
        "\n",
        "*Mainly these operators are applied on conditions to derive into a final result.*\n"
      ]
    },
    {
      "cell_type": "code",
      "metadata": {
        "colab": {
          "base_uri": "https://localhost:8080/"
        },
        "id": "mdkIdYNgmxor",
        "outputId": "aaa60d75-b0e3-4ae3-e77b-45f0c0b6b82e"
      },
      "source": [
        "# AND operator\n",
        "(10 > 5) and ('a' != 'A')"
      ],
      "execution_count": 11,
      "outputs": [
        {
          "output_type": "execute_result",
          "data": {
            "text/plain": [
              "True"
            ]
          },
          "metadata": {
            "tags": []
          },
          "execution_count": 11
        }
      ]
    },
    {
      "cell_type": "code",
      "metadata": {
        "colab": {
          "base_uri": "https://localhost:8080/"
        },
        "id": "81poz34amxlW",
        "outputId": "3971e0fd-b6a0-4a16-a4f6-3ba24baec1c6"
      },
      "source": [
        "(10 < 5) and ('a' != 'A')"
      ],
      "execution_count": 12,
      "outputs": [
        {
          "output_type": "execute_result",
          "data": {
            "text/plain": [
              "False"
            ]
          },
          "metadata": {
            "tags": []
          },
          "execution_count": 12
        }
      ]
    },
    {
      "cell_type": "code",
      "metadata": {
        "colab": {
          "base_uri": "https://localhost:8080/"
        },
        "id": "HzIytDW3ng6_",
        "outputId": "bc41ec56-e94e-45f6-d83e-95579f1e9fac"
      },
      "source": [
        "(10 < 5) and ('a' == 'A')"
      ],
      "execution_count": 16,
      "outputs": [
        {
          "output_type": "execute_result",
          "data": {
            "text/plain": [
              "False"
            ]
          },
          "metadata": {
            "tags": []
          },
          "execution_count": 16
        }
      ]
    },
    {
      "cell_type": "code",
      "metadata": {
        "colab": {
          "base_uri": "https://localhost:8080/"
        },
        "id": "Il08fqQLmxc5",
        "outputId": "05edaa63-c9e2-40c0-cc51-e8444df78f39"
      },
      "source": [
        "# OR operator\n",
        "(10 > 5) or ('a' != 'A')"
      ],
      "execution_count": 13,
      "outputs": [
        {
          "output_type": "execute_result",
          "data": {
            "text/plain": [
              "True"
            ]
          },
          "metadata": {
            "tags": []
          },
          "execution_count": 13
        }
      ]
    },
    {
      "cell_type": "code",
      "metadata": {
        "colab": {
          "base_uri": "https://localhost:8080/"
        },
        "id": "BG5pWO5KnVLb",
        "outputId": "3e48bee8-9d2f-4140-8d44-ce33dacf557d"
      },
      "source": [
        "(10 < 5) or ('a' != 'A')"
      ],
      "execution_count": 14,
      "outputs": [
        {
          "output_type": "execute_result",
          "data": {
            "text/plain": [
              "True"
            ]
          },
          "metadata": {
            "tags": []
          },
          "execution_count": 14
        }
      ]
    },
    {
      "cell_type": "code",
      "metadata": {
        "colab": {
          "base_uri": "https://localhost:8080/"
        },
        "id": "E_AB6mlAnVI5",
        "outputId": "b4090f06-1c5c-478d-8664-91c1f5d4709c"
      },
      "source": [
        "(10 < 5) or ('a' == 'A')"
      ],
      "execution_count": 15,
      "outputs": [
        {
          "output_type": "execute_result",
          "data": {
            "text/plain": [
              "False"
            ]
          },
          "metadata": {
            "tags": []
          },
          "execution_count": 15
        }
      ]
    },
    {
      "cell_type": "code",
      "metadata": {
        "colab": {
          "base_uri": "https://localhost:8080/"
        },
        "id": "-o6c_LwynVDa",
        "outputId": "e117cf37-0b78-4a7f-940a-98acd0942fee"
      },
      "source": [
        "# NOT opeartor\n",
        "not (10 > 5)"
      ],
      "execution_count": 18,
      "outputs": [
        {
          "output_type": "execute_result",
          "data": {
            "text/plain": [
              "False"
            ]
          },
          "metadata": {
            "tags": []
          },
          "execution_count": 18
        }
      ]
    },
    {
      "cell_type": "markdown",
      "metadata": {
        "id": "sJMwCp8ME3Xf"
      },
      "source": [
        "### **Assignment Operator**\n",
        "This operator is used to assign values to variables. The operator used here is =. The value is assigned from the right to the left.\n"
      ]
    },
    {
      "cell_type": "code",
      "metadata": {
        "id": "8S0-EWGWo1ut"
      },
      "source": [
        "# the assignment operator is used to assign the value 10 to the variable var\n",
        "var = 10"
      ],
      "execution_count": 25,
      "outputs": []
    },
    {
      "cell_type": "code",
      "metadata": {
        "colab": {
          "base_uri": "https://localhost:8080/"
        },
        "id": "CdZyzeXfpPNq",
        "outputId": "154c8357-8b2d-412a-fad6-b55f6d1a1d1e"
      },
      "source": [
        "# here the calculated value of 10 + 5 is assigned to the variable result\n",
        "result = 10 + 5\n",
        "result"
      ],
      "execution_count": 26,
      "outputs": [
        {
          "output_type": "execute_result",
          "data": {
            "text/plain": [
              "15"
            ]
          },
          "metadata": {
            "tags": []
          },
          "execution_count": 26
        }
      ]
    },
    {
      "cell_type": "markdown",
      "metadata": {
        "id": "sVE3Rcv-p2XO"
      },
      "source": [
        "**Note:** There is a way to assign multiple values to multiple variables in a single line of code in python using comma."
      ]
    },
    {
      "cell_type": "code",
      "metadata": {
        "id": "5rJcdyXuqB9j"
      },
      "source": [
        "# a, b and c are assigned the values 10, 20 and 30 respectively.\n",
        "a, b, c = 10, 20, 30"
      ],
      "execution_count": 34,
      "outputs": []
    },
    {
      "cell_type": "code",
      "metadata": {
        "colab": {
          "base_uri": "https://localhost:8080/"
        },
        "id": "KFIPpPEkqLzi",
        "outputId": "fdbaa22e-754d-4a1a-f336-11ad93de6f85"
      },
      "source": [
        "a, b, c"
      ],
      "execution_count": 28,
      "outputs": [
        {
          "output_type": "execute_result",
          "data": {
            "text/plain": [
              "(10, 20, 30)"
            ]
          },
          "metadata": {
            "tags": []
          },
          "execution_count": 28
        }
      ]
    },
    {
      "cell_type": "markdown",
      "metadata": {
        "id": "wZfPTYeYpf4g"
      },
      "source": [
        "There are some shortcuts to do an arithmetic operation and then assign it to the same variable which was an operand in the expression."
      ]
    },
    {
      "cell_type": "code",
      "metadata": {
        "colab": {
          "base_uri": "https://localhost:8080/"
        },
        "id": "9P0cEjTYprjW",
        "outputId": "1e1e0c98-d795-4e50-c887-efa2bb882deb"
      },
      "source": [
        "# variables a has the value 10 from the above code\n",
        "a += 5    # this is same as a = a + 5\n",
        "a"
      ],
      "execution_count": 29,
      "outputs": [
        {
          "output_type": "execute_result",
          "data": {
            "text/plain": [
              "15"
            ]
          },
          "metadata": {
            "tags": []
          },
          "execution_count": 29
        }
      ]
    },
    {
      "cell_type": "code",
      "metadata": {
        "colab": {
          "base_uri": "https://localhost:8080/"
        },
        "id": "l-SQjvQvprhR",
        "outputId": "1d95e0fc-832c-4f7f-9d85-0aaf4a470052"
      },
      "source": [
        "a -= 3    # this is same as a = a - 3\n",
        "a"
      ],
      "execution_count": 30,
      "outputs": [
        {
          "output_type": "execute_result",
          "data": {
            "text/plain": [
              "12"
            ]
          },
          "metadata": {
            "tags": []
          },
          "execution_count": 30
        }
      ]
    },
    {
      "cell_type": "code",
      "metadata": {
        "colab": {
          "base_uri": "https://localhost:8080/"
        },
        "id": "WVye4yfFprfP",
        "outputId": "92f069dc-855b-480f-e2a0-a9e6dea8978e"
      },
      "source": [
        "a *= 2    # this is same as a = a * 2\n",
        "a"
      ],
      "execution_count": 31,
      "outputs": [
        {
          "output_type": "execute_result",
          "data": {
            "text/plain": [
              "24"
            ]
          },
          "metadata": {
            "tags": []
          },
          "execution_count": 31
        }
      ]
    },
    {
      "cell_type": "code",
      "metadata": {
        "colab": {
          "base_uri": "https://localhost:8080/"
        },
        "id": "H-ofWhqsprdG",
        "outputId": "95c24786-e12d-4c36-b0f1-391c0c8a48a1"
      },
      "source": [
        "a /= 3    # this is same as a = a / 3\n",
        "a"
      ],
      "execution_count": 32,
      "outputs": [
        {
          "output_type": "execute_result",
          "data": {
            "text/plain": [
              "8.0"
            ]
          },
          "metadata": {
            "tags": []
          },
          "execution_count": 32
        }
      ]
    },
    {
      "cell_type": "code",
      "metadata": {
        "colab": {
          "base_uri": "https://localhost:8080/"
        },
        "id": "26LB6KFVprZL",
        "outputId": "3a416697-37fc-47c7-fb1f-893dae343c81"
      },
      "source": [
        "# variables b has the value 20 from the above code\n",
        "b %= 6    # this is same as b = b % 6\n",
        "b"
      ],
      "execution_count": 35,
      "outputs": [
        {
          "output_type": "execute_result",
          "data": {
            "text/plain": [
              "2"
            ]
          },
          "metadata": {
            "tags": []
          },
          "execution_count": 35
        }
      ]
    },
    {
      "cell_type": "code",
      "metadata": {
        "colab": {
          "base_uri": "https://localhost:8080/"
        },
        "id": "r4-UhxH_prWh",
        "outputId": "500cec68-279a-46d5-8211-7d408aa1ce5e"
      },
      "source": [
        "# variables c has the value 30 from the above code\n",
        "c //= 7    # this is same as c = c // 7\n",
        "c"
      ],
      "execution_count": 36,
      "outputs": [
        {
          "output_type": "execute_result",
          "data": {
            "text/plain": [
              "4"
            ]
          },
          "metadata": {
            "tags": []
          },
          "execution_count": 36
        }
      ]
    },
    {
      "cell_type": "code",
      "metadata": {
        "colab": {
          "base_uri": "https://localhost:8080/"
        },
        "id": "Z4sv8rEGrqGS",
        "outputId": "696bc73c-f514-43df-b680-33df473c76cf"
      },
      "source": [
        "c **= 2    # this is same as c = c ** 2\n",
        "c"
      ],
      "execution_count": 37,
      "outputs": [
        {
          "output_type": "execute_result",
          "data": {
            "text/plain": [
              "16"
            ]
          },
          "metadata": {
            "tags": []
          },
          "execution_count": 37
        }
      ]
    },
    {
      "cell_type": "markdown",
      "metadata": {
        "id": "PtenbkBrPL-a"
      },
      "source": [
        "### **Concatenation and Multiplication**\n",
        "You can use + and * operator to perform other operatons other than the basic arithmetic operations.<br>\n",
        "\n",
        "If you use + operator with two string, list, set, or other data type that have a collection of values, then the result will be a concatenation of the two operands into a single string, list, set, etc.<br>\n",
        "\n",
        "If you use * operator with an positive integer and a string, list, set or other data type that have a collection of values, then the result will be that many times as the integer of the other operand."
      ]
    },
    {
      "cell_type": "code",
      "metadata": {
        "colab": {
          "base_uri": "https://localhost:8080/",
          "height": 35
        },
        "id": "629n4COSPyJy",
        "outputId": "77006c2d-ab01-4d68-a949-22740c38d17f"
      },
      "source": [
        "# concatenation\n",
        "\"hello\" + \"everyone\""
      ],
      "execution_count": 11,
      "outputs": [
        {
          "output_type": "execute_result",
          "data": {
            "application/vnd.google.colaboratory.intrinsic+json": {
              "type": "string"
            },
            "text/plain": [
              "'helloeveryone'"
            ]
          },
          "metadata": {
            "tags": []
          },
          "execution_count": 11
        }
      ]
    },
    {
      "cell_type": "code",
      "metadata": {
        "colab": {
          "base_uri": "https://localhost:8080/"
        },
        "id": "XyhJA1zfQo_x",
        "outputId": "178cefaa-9605-4de9-d31f-2bd4060455b3"
      },
      "source": [
        "[1, 2, 3] + [10, 20]"
      ],
      "execution_count": 12,
      "outputs": [
        {
          "output_type": "execute_result",
          "data": {
            "text/plain": [
              "[1, 2, 3, 10, 20]"
            ]
          },
          "metadata": {
            "tags": []
          },
          "execution_count": 12
        }
      ]
    },
    {
      "cell_type": "code",
      "metadata": {
        "colab": {
          "base_uri": "https://localhost:8080/",
          "height": 35
        },
        "id": "CXC0TJOKPyG1",
        "outputId": "b111d2dc-902c-4f41-ca96-647d1ce0c60e"
      },
      "source": [
        "# multiplicaton\n",
        "\"hello\" * 10"
      ],
      "execution_count": 13,
      "outputs": [
        {
          "output_type": "execute_result",
          "data": {
            "application/vnd.google.colaboratory.intrinsic+json": {
              "type": "string"
            },
            "text/plain": [
              "'hellohellohellohellohellohellohellohellohellohello'"
            ]
          },
          "metadata": {
            "tags": []
          },
          "execution_count": 13
        }
      ]
    },
    {
      "cell_type": "code",
      "metadata": {
        "colab": {
          "base_uri": "https://localhost:8080/"
        },
        "id": "SlOzk7OsQ79Y",
        "outputId": "0194ebd6-1538-4d9f-88bf-7a6d81ffffb8"
      },
      "source": [
        "[1, 0] * 5"
      ],
      "execution_count": 14,
      "outputs": [
        {
          "output_type": "execute_result",
          "data": {
            "text/plain": [
              "[1, 0, 1, 0, 1, 0, 1, 0, 1, 0]"
            ]
          },
          "metadata": {
            "tags": []
          },
          "execution_count": 14
        }
      ]
    },
    {
      "cell_type": "markdown",
      "metadata": {
        "id": "OyLwcPYlRDe9"
      },
      "source": [
        "**Note:** The property of an operator to act differently according to the situation or the operands given is called **operator overloading**."
      ]
    },
    {
      "cell_type": "markdown",
      "metadata": {
        "id": "MQWAAV6o0Js-"
      },
      "source": [
        "## **Inputs and Outputs**\n",
        "Inputting data from a user into the program and outputting the data to the user are important parts of a programming language."
      ]
    },
    {
      "cell_type": "markdown",
      "metadata": {
        "id": "3tFAEs7Y1J8g"
      },
      "source": [
        "### **Input**\n",
        "In python we use the function **input()** to read values from a user into the program. You can store the value read into a variable. You can even provide a message inside the input() function as a parameter for the user while reading a value.\n",
        "<br>\n",
        "**Syntax:**\n",
        "```\n",
        "variable_name = input(\"message\")\n",
        "```\n",
        "**Note:** The input function always return a string value whether you are reading an integer, float or a string value. So to store it as an integer or a float value you need to change the type of the value the input() function is returning.\n",
        "\n"
      ]
    },
    {
      "cell_type": "code",
      "metadata": {
        "colab": {
          "base_uri": "https://localhost:8080/"
        },
        "id": "zw_E62Vz1KgG",
        "outputId": "ae60f2c8-7abe-4be8-b8ce-c1f8ac9fab5a"
      },
      "source": [
        "name = input(\"Enter a name : \")"
      ],
      "execution_count": 1,
      "outputs": [
        {
          "output_type": "stream",
          "text": [
            "Enter a name : John\n"
          ],
          "name": "stdout"
        }
      ]
    },
    {
      "cell_type": "code",
      "metadata": {
        "colab": {
          "base_uri": "https://localhost:8080/",
          "height": 35
        },
        "id": "L6NgVH2uXF1F",
        "outputId": "a40a3b91-e77f-4381-99ad-cb93c22a2ac7"
      },
      "source": [
        "# the name you entered has been stored inside the variable name\n",
        "name"
      ],
      "execution_count": 2,
      "outputs": [
        {
          "output_type": "execute_result",
          "data": {
            "application/vnd.google.colaboratory.intrinsic+json": {
              "type": "string"
            },
            "text/plain": [
              "'John'"
            ]
          },
          "metadata": {
            "tags": []
          },
          "execution_count": 2
        }
      ]
    },
    {
      "cell_type": "code",
      "metadata": {
        "colab": {
          "base_uri": "https://localhost:8080/"
        },
        "id": "guk6rzufXUpy",
        "outputId": "063516bd-6144-422a-b833-b410ba5b24db"
      },
      "source": [
        "# to store an integer value you must change the type\n",
        "n = int(input(\"Enter a number : \"))"
      ],
      "execution_count": 3,
      "outputs": [
        {
          "output_type": "stream",
          "text": [
            "Enter a number : 10\n"
          ],
          "name": "stdout"
        }
      ]
    },
    {
      "cell_type": "code",
      "metadata": {
        "colab": {
          "base_uri": "https://localhost:8080/"
        },
        "id": "vLivd0z2XjBT",
        "outputId": "682e4b60-1db6-4999-ea95-ff1de1cbc701"
      },
      "source": [
        "n"
      ],
      "execution_count": 4,
      "outputs": [
        {
          "output_type": "execute_result",
          "data": {
            "text/plain": [
              "10"
            ]
          },
          "metadata": {
            "tags": []
          },
          "execution_count": 4
        }
      ]
    },
    {
      "cell_type": "code",
      "metadata": {
        "colab": {
          "base_uri": "https://localhost:8080/"
        },
        "id": "bpXyUKY7Xi-s",
        "outputId": "9c172c03-721f-4c3d-80a6-1102c23c543b"
      },
      "source": [
        "type(n)"
      ],
      "execution_count": 5,
      "outputs": [
        {
          "output_type": "execute_result",
          "data": {
            "text/plain": [
              "int"
            ]
          },
          "metadata": {
            "tags": []
          },
          "execution_count": 5
        }
      ]
    },
    {
      "cell_type": "code",
      "metadata": {
        "colab": {
          "base_uri": "https://localhost:8080/"
        },
        "id": "Qi1gkHixXi8E",
        "outputId": "9e49211c-bb03-4843-bce0-481acafabbec"
      },
      "source": [
        "# if you don't provide a type, then\n",
        "n = input(\"Enter a number : \")"
      ],
      "execution_count": 6,
      "outputs": [
        {
          "output_type": "stream",
          "text": [
            "Enter a number : 10\n"
          ],
          "name": "stdout"
        }
      ]
    },
    {
      "cell_type": "code",
      "metadata": {
        "colab": {
          "base_uri": "https://localhost:8080/",
          "height": 35
        },
        "id": "1P_IVnOYXlpU",
        "outputId": "e9ae4a25-3dc8-490a-c8d3-3dcbb3801e8a"
      },
      "source": [
        "n"
      ],
      "execution_count": 7,
      "outputs": [
        {
          "output_type": "execute_result",
          "data": {
            "application/vnd.google.colaboratory.intrinsic+json": {
              "type": "string"
            },
            "text/plain": [
              "'10'"
            ]
          },
          "metadata": {
            "tags": []
          },
          "execution_count": 7
        }
      ]
    },
    {
      "cell_type": "code",
      "metadata": {
        "colab": {
          "base_uri": "https://localhost:8080/"
        },
        "id": "cAlXo-rZXlmh",
        "outputId": "45bb3b36-1b88-4e52-b852-5c7b4057ed7a"
      },
      "source": [
        "type(n)   # the default type would be string"
      ],
      "execution_count": 8,
      "outputs": [
        {
          "output_type": "execute_result",
          "data": {
            "text/plain": [
              "str"
            ]
          },
          "metadata": {
            "tags": []
          },
          "execution_count": 8
        }
      ]
    },
    {
      "cell_type": "markdown",
      "metadata": {
        "id": "yARxZ5wW1LGE"
      },
      "source": [
        "### **Output**\n",
        "To output or display data to the user you can use the function **print()**. You can provide any values inside the print() function as parameters to display it to the user.<br>\n",
        "**Syntax:**\n",
        "```\n",
        "print(value_1, value_2,..., value_n)\n",
        "```\n",
        "**Note:** The print function has two important parameters, **sep** and **end**. \n",
        "* sep parameter is used to set what string should be added between two values while displaying. The default value is a space.\n",
        "* end parameter is used to print the ending string of the print statement. The default value in a newline ('\\n') character.\n"
      ]
    },
    {
      "cell_type": "code",
      "metadata": {
        "colab": {
          "base_uri": "https://localhost:8080/"
        },
        "id": "JtsBXzrj1Ldl",
        "outputId": "758c7e67-cde3-40e4-cf8f-ddcde61a6a23"
      },
      "source": [
        "print(\"hello\")"
      ],
      "execution_count": 9,
      "outputs": [
        {
          "output_type": "stream",
          "text": [
            "hello\n"
          ],
          "name": "stdout"
        }
      ]
    },
    {
      "cell_type": "code",
      "metadata": {
        "colab": {
          "base_uri": "https://localhost:8080/"
        },
        "id": "RvigK3SKZRvG",
        "outputId": "c6e39d50-2471-4404-9132-86f54f30e7c7"
      },
      "source": [
        "print(\"The number entered above was :\", n)"
      ],
      "execution_count": 10,
      "outputs": [
        {
          "output_type": "stream",
          "text": [
            "The number entered above was : 10\n"
          ],
          "name": "stdout"
        }
      ]
    },
    {
      "cell_type": "markdown",
      "metadata": {
        "id": "S3QHyLSZZYWs"
      },
      "source": [
        "You can see that a space was added between the string and the integer value by default using the value of sep parameter."
      ]
    },
    {
      "cell_type": "code",
      "metadata": {
        "colab": {
          "base_uri": "https://localhost:8080/"
        },
        "id": "6Jv63ovuZRqL",
        "outputId": "b2ac3ece-6bb4-4ee0-9fcc-7857d64d32fe"
      },
      "source": [
        "print(\"This\", \"is\", \"a\", sep=\"-\")\n",
        "print(\"sentence\")"
      ],
      "execution_count": 11,
      "outputs": [
        {
          "output_type": "stream",
          "text": [
            "This-is-a\n",
            "sentence\n"
          ],
          "name": "stdout"
        }
      ]
    },
    {
      "cell_type": "markdown",
      "metadata": {
        "id": "uvFATxhJZqUi"
      },
      "source": [
        "Here the sep parameter is set to the character '-', hence the - symbol is added between the string values in the first print statement. The second print statment's string value has been printed below the first statement because the default newline character value in the end parameter."
      ]
    },
    {
      "cell_type": "code",
      "metadata": {
        "colab": {
          "base_uri": "https://localhost:8080/"
        },
        "id": "RSO8oM1rZRni",
        "outputId": "1095169f-b8ff-477c-c1fe-c00aeeeec7c2"
      },
      "source": [
        "print(\"This\", \"is\", \"a\", end=\"#\")\n",
        "print(\"sentence\")"
      ],
      "execution_count": 13,
      "outputs": [
        {
          "output_type": "stream",
          "text": [
            "This is a#sentence\n"
          ],
          "name": "stdout"
        }
      ]
    },
    {
      "cell_type": "markdown",
      "metadata": {
        "id": "VxzbWHO0aNRf"
      },
      "source": [
        "Instead of newline character a # symbol has been added to the end of the string."
      ]
    },
    {
      "cell_type": "markdown",
      "metadata": {
        "id": "-3xh96XJFHTP"
      },
      "source": [
        "## **Flow of exection**\n",
        "The normal flow of execution of a program is from top to bottom. But that flow can be alter. Sometimes we may skip certain code or execute some code for multiple number of times."
      ]
    },
    {
      "cell_type": "markdown",
      "metadata": {
        "id": "q-ZunzZnEmU3"
      },
      "source": [
        "### **Conditional Statements**\n",
        "This statement is used to execute a block of statement based on a condition. \n",
        "<br><br>\n",
        "**Note:** In python we use indendation to separate blocks of statements unlike curly brases in C, CPP or Java."
      ]
    },
    {
      "cell_type": "markdown",
      "metadata": {
        "id": "OUvUd5p4E9nc"
      },
      "source": [
        "#### **if statement**\n",
        "**Syntax:**\n",
        "\n",
        "\n",
        "```\n",
        "if condition:\n",
        "    # body of if\n",
        "```\n",
        "\n"
      ]
    },
    {
      "cell_type": "code",
      "metadata": {
        "colab": {
          "base_uri": "https://localhost:8080/"
        },
        "id": "x8zx232OvdGK",
        "outputId": "a54ae5c4-1db6-417e-86a1-a7d5db9d916e"
      },
      "source": [
        "a  = 10\n",
        "if a > 5:                           # here the condition is true, so the body of the if statement will be executed\n",
        "    print(\"a is larger than 5\")     # this code will be executed            \n",
        "print(\"code after if\")"
      ],
      "execution_count": 47,
      "outputs": [
        {
          "output_type": "stream",
          "text": [
            "a is larger than 5\n",
            "code after if\n"
          ],
          "name": "stdout"
        }
      ]
    },
    {
      "cell_type": "code",
      "metadata": {
        "colab": {
          "base_uri": "https://localhost:8080/"
        },
        "id": "_m3cS2Gxvx3a",
        "outputId": "12be4efb-f15a-41f8-fdde-0505e846b973"
      },
      "source": [
        "b  = 10\n",
        "if b < 10:                          # here the condition is false, so the body of the if statement will not be executed\n",
        "    print(\"b is less than 10\")      # this code will not be executed\n",
        "print(\"code after if\")"
      ],
      "execution_count": 46,
      "outputs": [
        {
          "output_type": "stream",
          "text": [
            "code after if\n"
          ],
          "name": "stdout"
        }
      ]
    },
    {
      "cell_type": "code",
      "metadata": {
        "colab": {
          "base_uri": "https://localhost:8080/"
        },
        "id": "fWTBLUtMyqny",
        "outputId": "32b7e7b3-a59d-46b2-aebd-0fe56cd0fa43"
      },
      "source": [
        "a  = 5\n",
        "if 1 < a and a < 10:     \n",
        "    print(\"a is between 1 and 10\")    \n",
        "print(\"code after if\")"
      ],
      "execution_count": 48,
      "outputs": [
        {
          "output_type": "stream",
          "text": [
            "a is between 1 and 10\n",
            "code after if\n"
          ],
          "name": "stdout"
        }
      ]
    },
    {
      "cell_type": "markdown",
      "metadata": {
        "id": "11bgLMpvFaBO"
      },
      "source": [
        "#### **if-else**\n",
        "When we have two block of codes and based on a condition we need to execute only one of the block, then we can use if-else.\n",
        "<br>\n",
        "**Syntax:**\n",
        "\n",
        "\n",
        "```\n",
        "if condition:\n",
        "    # body of if\n",
        "else:\n",
        "    # body of else\n",
        "```\n",
        "\n"
      ]
    },
    {
      "cell_type": "code",
      "metadata": {
        "colab": {
          "base_uri": "https://localhost:8080/"
        },
        "id": "Y_a67k3cwlOz",
        "outputId": "a37c65e4-47bc-4c89-8860-73c0cbc1aafe"
      },
      "source": [
        "a = 10  \n",
        "if a > 5:       # here the given condition is true, hence the body of if will be executed\n",
        "    a = True    # this code will be executed and a gets the boolean value True\n",
        "else:           # since the condition given in if is true, else part will be skipped\n",
        "    a = False   # this code will not be executed\n",
        "a"
      ],
      "execution_count": 41,
      "outputs": [
        {
          "output_type": "execute_result",
          "data": {
            "text/plain": [
              "True"
            ]
          },
          "metadata": {
            "tags": []
          },
          "execution_count": 41
        }
      ]
    },
    {
      "cell_type": "code",
      "metadata": {
        "colab": {
          "base_uri": "https://localhost:8080/"
        },
        "id": "kJFxmNvcxMcz",
        "outputId": "4ec02b69-3683-489c-a8a6-487edecba477"
      },
      "source": [
        "a = 5\n",
        "if a > 5:       # here the given condition is false, hence the body of if will be skipped\n",
        "    a = True    # this code will not be executed \n",
        "else:           # since the condition given in if is false, else part will be executed\n",
        "    a = False   # this code will be executed and a will get the boolean value False\n",
        "a"
      ],
      "execution_count": 43,
      "outputs": [
        {
          "output_type": "execute_result",
          "data": {
            "text/plain": [
              "False"
            ]
          },
          "metadata": {
            "tags": []
          },
          "execution_count": 43
        }
      ]
    },
    {
      "cell_type": "markdown",
      "metadata": {
        "id": "qkM6yoHNFf8C"
      },
      "source": [
        "#### **if-else-if ladder**\n",
        "You can also give another if condition on the else part and another if in the else part of that if, and thus forms and if-else-if ladder.\n",
        "<br>\n",
        "**Syntax:**\n",
        "```\n",
        "if condition1:\n",
        "    # body of if 1\n",
        "else:\n",
        "    if condition2:\n",
        "        # body of if 2\n",
        "    else: \n",
        "        if condition3:\n",
        "            # body of if 3\n",
        "            .....\n",
        "```\n",
        "You can use **elif** insead of else if.\n",
        "**Syntax:**\n",
        "```\n",
        "if condition1:\n",
        "    # body of if 1\n",
        "elif condition2:\n",
        "    # body of if 2\n",
        "elif condition3:\n",
        "    # body of if 3\n",
        "    .....\n",
        "else:\n",
        "    # body of else\n",
        "```\n"
      ]
    },
    {
      "cell_type": "code",
      "metadata": {
        "colab": {
          "base_uri": "https://localhost:8080/"
        },
        "id": "gw54BIeBafNJ",
        "outputId": "c1eeb4ee-7245-452c-cb79-16e0fa27c1f6"
      },
      "source": [
        "choice = 3\n",
        "if choice == 1:\n",
        "    print(\"Choice is 1\")\n",
        "else:\n",
        "    if choice == 2:\n",
        "        print(\"Choice is 2\")\n",
        "    else:\n",
        "        print(\"Some other choice\")"
      ],
      "execution_count": 14,
      "outputs": [
        {
          "output_type": "stream",
          "text": [
            "Some other choice\n"
          ],
          "name": "stdout"
        }
      ]
    },
    {
      "cell_type": "code",
      "metadata": {
        "colab": {
          "base_uri": "https://localhost:8080/"
        },
        "id": "BXOUyxvXa1S-",
        "outputId": "eb4cf813-2c5a-448f-e5f1-375e00fa22de"
      },
      "source": [
        "choice = 2\n",
        "if choice == 1:\n",
        "    print(\"Choice is 1\")\n",
        "elif choice == 2:\n",
        "    print(\"Choice is 2\")\n",
        "else:\n",
        "    print(\"Some other choice\")"
      ],
      "execution_count": 15,
      "outputs": [
        {
          "output_type": "stream",
          "text": [
            "Choice is 2\n"
          ],
          "name": "stdout"
        }
      ]
    },
    {
      "cell_type": "markdown",
      "metadata": {
        "id": "DfH1XQwlFBcv"
      },
      "source": [
        "### **Loops**\n",
        "Loops or iteration statements are those statements that lets you execute a block of code for multiple number of times."
      ]
    },
    {
      "cell_type": "markdown",
      "metadata": {
        "id": "u6wgfyLuFPpx"
      },
      "source": [
        "#### **for loop**\n",
        "In Python the for loop is an iteration statement that iterates a block of statements for a certain number of times as the length of the elements given to iterate in the loop.<br>\n",
        "**Syntax:**\n",
        "```\n",
        "for iterating_variable in elements:\n",
        "    # loop body\n",
        "```\n",
        "* *elements* is the part where you provide the list of elements. You can use the data types string, list, tuple, set, dictionary or a collection of values in place of the *elements*. You can also use the function **range()** to get a list of integer values.\n",
        "* iterating_variable will get each value from the list of values at each iteration. So the loop will work *n* number of times, where the *n* is the number of elements in the list of values."
      ]
    },
    {
      "cell_type": "code",
      "metadata": {
        "colab": {
          "base_uri": "https://localhost:8080/"
        },
        "id": "U6C4Sofjhthd",
        "outputId": "984dc7df-dd84-4e11-a03a-4aace69af487"
      },
      "source": [
        "for i in [10, 20, 30, 40]:\n",
        "    print(i)"
      ],
      "execution_count": 17,
      "outputs": [
        {
          "output_type": "stream",
          "text": [
            "10\n",
            "20\n",
            "30\n",
            "40\n"
          ],
          "name": "stdout"
        }
      ]
    },
    {
      "cell_type": "code",
      "metadata": {
        "colab": {
          "base_uri": "https://localhost:8080/"
        },
        "id": "y0fVPvEDjAx3",
        "outputId": "b7d6d810-a322-48c8-97ac-702d3c52ba58"
      },
      "source": [
        "for i in \"hello\":\n",
        "    print(i)"
      ],
      "execution_count": 18,
      "outputs": [
        {
          "output_type": "stream",
          "text": [
            "h\n",
            "e\n",
            "l\n",
            "l\n",
            "o\n"
          ],
          "name": "stdout"
        }
      ]
    },
    {
      "cell_type": "code",
      "metadata": {
        "colab": {
          "base_uri": "https://localhost:8080/"
        },
        "id": "Y-cup4R9jDkh",
        "outputId": "1f21bdc5-4d90-47ef-a906-abc2e9a141c1"
      },
      "source": [
        "for i in [10, [1, 2, 3], \"abc\"]:\n",
        "    print(i)"
      ],
      "execution_count": 19,
      "outputs": [
        {
          "output_type": "stream",
          "text": [
            "10\n",
            "[1, 2, 3]\n",
            "abc\n"
          ],
          "name": "stdout"
        }
      ]
    },
    {
      "cell_type": "markdown",
      "metadata": {
        "id": "LM-zPsQJhyk0"
      },
      "source": [
        "**Syntax of range():**\n",
        "\n",
        "```\n",
        "range(lower_limit, upper_limit, increament/decrement)\n",
        "```\n",
        "The function will return a list of values staring from the lower_limit and the series of values by incrementing or decrementing each by the value given till upper_limit-1.<br>\n",
        "**Example:**<br>\n",
        "range(0, 10, 2) will return the list of values 0, 2, 4, 6, 8\n",
        "range(1, 5) will return 1, 2, 3, 4\n",
        "range(6) will return 0, 1, 2, 3, 4, 5\n",
        "\n",
        " "
      ]
    },
    {
      "cell_type": "code",
      "metadata": {
        "colab": {
          "base_uri": "https://localhost:8080/"
        },
        "id": "ti2SMigmjNAG",
        "outputId": "c38dc570-7bc7-4f96-ee9a-307dc115f84e"
      },
      "source": [
        "for i in range(8):\n",
        "    print(i)"
      ],
      "execution_count": 24,
      "outputs": [
        {
          "output_type": "stream",
          "text": [
            "0\n",
            "1\n",
            "2\n",
            "3\n",
            "4\n",
            "5\n",
            "6\n",
            "7\n"
          ],
          "name": "stdout"
        }
      ]
    },
    {
      "cell_type": "code",
      "metadata": {
        "colab": {
          "base_uri": "https://localhost:8080/"
        },
        "id": "tJp_l1PljQDQ",
        "outputId": "8b6e7f4c-4aae-4333-c33d-05dc4f909de2"
      },
      "source": [
        "for i in range(2, 10):\n",
        "    print(i)"
      ],
      "execution_count": 25,
      "outputs": [
        {
          "output_type": "stream",
          "text": [
            "2\n",
            "3\n",
            "4\n",
            "5\n",
            "6\n",
            "7\n",
            "8\n",
            "9\n"
          ],
          "name": "stdout"
        }
      ]
    },
    {
      "cell_type": "code",
      "metadata": {
        "colab": {
          "base_uri": "https://localhost:8080/"
        },
        "id": "6IeQEQM6jhtq",
        "outputId": "6558b39f-6dc0-4121-c9cd-3b6893264bdf"
      },
      "source": [
        "for i in range(1, 10, 2):\n",
        "    print(i)"
      ],
      "execution_count": 26,
      "outputs": [
        {
          "output_type": "stream",
          "text": [
            "1\n",
            "3\n",
            "5\n",
            "7\n",
            "9\n"
          ],
          "name": "stdout"
        }
      ]
    },
    {
      "cell_type": "code",
      "metadata": {
        "colab": {
          "base_uri": "https://localhost:8080/"
        },
        "id": "hX8BEr1sjmKT",
        "outputId": "f1798d51-5a45-4936-bc41-9738f839de4c"
      },
      "source": [
        "for i in range(10, 1, -1):    # reversing the range values you can use decrement\n",
        "    print(i)"
      ],
      "execution_count": 28,
      "outputs": [
        {
          "output_type": "stream",
          "text": [
            "10\n",
            "9\n",
            "8\n",
            "7\n",
            "6\n",
            "5\n",
            "4\n",
            "3\n",
            "2\n"
          ],
          "name": "stdout"
        }
      ]
    },
    {
      "cell_type": "markdown",
      "metadata": {
        "id": "eAxKPRQgFPZX"
      },
      "source": [
        "#### **while loop**\n",
        "While loops iterates a block of statements based on a given condition. It iterates as long as the condition remains true and terminates when the condition turns to be false (if it does not become false then an infinite loop condition occurs).<br>\n",
        "**Syntax:**\n",
        "\n",
        "```\n",
        "while condition:\n",
        "    # body of loop\n",
        "```\n",
        "\n"
      ]
    },
    {
      "cell_type": "code",
      "metadata": {
        "colab": {
          "base_uri": "https://localhost:8080/"
        },
        "id": "NuUvOUdtL-_c",
        "outputId": "e987a485-fe43-4115-8569-6aebdf7e8084"
      },
      "source": [
        "i = 1\n",
        "while i < 10:\n",
        "    print(i)\n",
        "    i += 1        # the increment/decrement step must be included, otherwise the loop becomes infinite "
      ],
      "execution_count": 1,
      "outputs": [
        {
          "output_type": "stream",
          "text": [
            "1\n",
            "2\n",
            "3\n",
            "4\n",
            "5\n",
            "6\n",
            "7\n",
            "8\n",
            "9\n"
          ],
          "name": "stdout"
        }
      ]
    },
    {
      "cell_type": "markdown",
      "metadata": {
        "id": "qWy3r9aNMP4e"
      },
      "source": [
        "#### **Jump Statements**\n",
        "There are two jump statements used in python:\n",
        "1. **break:** It is used to break out from the exection of a loop and the exection continues with the following statements after the loop.\n",
        "2. **continiue:** It is used to by pass the current iteration and moves to the next iteration."
      ]
    },
    {
      "cell_type": "code",
      "metadata": {
        "colab": {
          "base_uri": "https://localhost:8080/"
        },
        "id": "bG47kRJ-M08Z",
        "outputId": "5a7e7b07-7248-4210-9699-215153642953"
      },
      "source": [
        "for i in range(5):\n",
        "    if i == 3:\n",
        "        break\n",
        "    print(i)"
      ],
      "execution_count": 2,
      "outputs": [
        {
          "output_type": "stream",
          "text": [
            "0\n",
            "1\n",
            "2\n"
          ],
          "name": "stdout"
        }
      ]
    },
    {
      "cell_type": "markdown",
      "metadata": {
        "id": "bz4od0uIM_eY"
      },
      "source": [
        "Here the program breaks the loop when the condition given becomes true (i.e, i = 3) and executes the break statement. Thus the remaining iterations are not done."
      ]
    },
    {
      "cell_type": "code",
      "metadata": {
        "colab": {
          "base_uri": "https://localhost:8080/"
        },
        "id": "I5lxrnr1M8PK",
        "outputId": "7484e062-c235-4d0b-bf7a-fab441eb367a"
      },
      "source": [
        "for i in range(5):\n",
        "    if i == 3:\n",
        "        continue\n",
        "    print(i)"
      ],
      "execution_count": 3,
      "outputs": [
        {
          "output_type": "stream",
          "text": [
            "0\n",
            "1\n",
            "2\n",
            "4\n"
          ],
          "name": "stdout"
        }
      ]
    },
    {
      "cell_type": "markdown",
      "metadata": {
        "id": "KKOF0u7kNOJS"
      },
      "source": [
        "Here the program bypass an iteration in the loop when the condition given becomes true (i.e, i = 3) and executes the continiue statement. Thus the print statement is not executed when i becomes 3."
      ]
    },
    {
      "cell_type": "markdown",
      "metadata": {
        "id": "f2OFlyGDDj0L"
      },
      "source": [
        "## **Defining Functions**\n",
        "Functions are named block of statements that can be called at the any part of the code (as the scope of the function) for as many times as we need.<br>\n",
        "\n",
        "There are mainly two parts for a function, that is the function definition and the function call. Function definition is where you declare or define the body of the function, how and what it should execute. The function call is the part where you invoke the defined function and the interpreter will execute the function body codes.<br>\n",
        "\n",
        "**Note:** The function definition must be declared before the function call statement. As the flow of exection if a function definition comes after the function call, then an error will occur stating that the function was not declared.<br><br>\n",
        "\n",
        "In python functions are defined using the keyword **def**, then we provide the name of the function and them inside the brackets we give the parameters for the function.<br>\n",
        "**Syntax:**\n",
        "\n",
        "```\n",
        "def function_name(parameter list):\n",
        "    # body of function\n",
        "```\n",
        "\n"
      ]
    },
    {
      "cell_type": "code",
      "metadata": {
        "id": "I4ryyGGfDQsK"
      },
      "source": [
        "def say_hello():\n",
        "    print(\"Hello everyone!\")"
      ],
      "execution_count": 5,
      "outputs": []
    },
    {
      "cell_type": "code",
      "metadata": {
        "colab": {
          "base_uri": "https://localhost:8080/"
        },
        "id": "aLGtqVAmOxp6",
        "outputId": "05b0a13c-504b-4517-c8cb-0de3269c98bf"
      },
      "source": [
        "say_hello()"
      ],
      "execution_count": 6,
      "outputs": [
        {
          "output_type": "stream",
          "text": [
            "Hello everyone!\n"
          ],
          "name": "stdout"
        }
      ]
    },
    {
      "cell_type": "code",
      "metadata": {
        "id": "SMx5ergWOxnf"
      },
      "source": [
        "def say_hi(n):        # parameter is given\n",
        "    print(\"Hi \"*n)"
      ],
      "execution_count": 9,
      "outputs": []
    },
    {
      "cell_type": "code",
      "metadata": {
        "colab": {
          "base_uri": "https://localhost:8080/"
        },
        "id": "IK3IJmh4Oxks",
        "outputId": "ca6c9ded-398b-43f2-dcca-11f567107ddc"
      },
      "source": [
        "say_hi(5)"
      ],
      "execution_count": 10,
      "outputs": [
        {
          "output_type": "stream",
          "text": [
            "Hi Hi Hi Hi Hi \n"
          ],
          "name": "stdout"
        }
      ]
    },
    {
      "cell_type": "markdown",
      "metadata": {
        "id": "VvyDWuygjvjL"
      },
      "source": [
        "### **Recursive Functions**\n",
        "Recursive functions are those function that calls themselves in their function body or function definition. This will cause the function to call itself like a never ending loop, so make sure to provide some condition to terminate this infinite calling. <br>\n",
        "*Recursion is sometimes considered more efficient that loops.*\n",
        "<br>\n",
        "\n",
        "**Example:**\n",
        "```\n",
        "def function_name(parameters):\n",
        "    # body\n",
        "    function_name(parameters)\n",
        "    # body\n",
        "```\n",
        "\n"
      ]
    },
    {
      "cell_type": "code",
      "metadata": {
        "id": "MkZ39vB2j1lE"
      },
      "source": [
        "def factorial(n):\n",
        "    if n == 0:\n",
        "        return 1\n",
        "    return n * factorial(n-1)"
      ],
      "execution_count": 18,
      "outputs": []
    },
    {
      "cell_type": "code",
      "metadata": {
        "colab": {
          "base_uri": "https://localhost:8080/"
        },
        "id": "Y2B6YM1IXt9s",
        "outputId": "e7aa9f54-6890-45ec-d1ec-9fa92ca95efc"
      },
      "source": [
        "factorial(4)"
      ],
      "execution_count": 19,
      "outputs": [
        {
          "output_type": "execute_result",
          "data": {
            "text/plain": [
              "24"
            ]
          },
          "metadata": {
            "tags": []
          },
          "execution_count": 19
        }
      ]
    }
  ]
}