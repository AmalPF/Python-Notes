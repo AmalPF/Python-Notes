{
  "nbformat": 4,
  "nbformat_minor": 0,
  "metadata": {
    "colab": {
      "name": "Python Basics.ipynb",
      "provenance": [],
      "collapsed_sections": [],
      "toc_visible": true,
      "authorship_tag": "ABX9TyNQFKYDDDxFXuL+DzE5ggqF",
      "include_colab_link": true
    },
    "kernelspec": {
      "name": "python3",
      "display_name": "Python 3"
    },
    "language_info": {
      "name": "python"
    }
  },
  "cells": [
    {
      "cell_type": "markdown",
      "metadata": {
        "id": "view-in-github",
        "colab_type": "text"
      },
      "source": [
        "<a href=\"https://colab.research.google.com/github/AmalPF/Python-Notes/blob/main/Python_Basics.ipynb\" target=\"_parent\"><img src=\"https://colab.research.google.com/assets/colab-badge.svg\" alt=\"Open In Colab\"/></a>"
      ]
    },
    {
      "cell_type": "markdown",
      "metadata": {
        "id": "_JRQWTLYoueM"
      },
      "source": [
        "# **Python Basics**"
      ]
    },
    {
      "cell_type": "markdown",
      "metadata": {
        "id": "DJAUSCzjo1Wa"
      },
      "source": [
        "## **Variables**\n",
        "\n",
        "Variables are named memory locations. We can use variables to store various types of data like integers, floating point values, string, and many more data types that the python supports.\n",
        "<br>\n",
        "In python the variable is like a container, which holds any type of value. Suppose we store an integer value in a variable and then at some point in the program we try to store a string value into the same variable then, the variables type changes to string."
      ]
    },
    {
      "cell_type": "markdown",
      "metadata": {
        "id": "_uUEmxhzp0M3"
      },
      "source": [
        "### **Rules for Declaring a Variable**\n",
        "1. Variable name must contain only alphabets, numbers and underscore. No other special symbols are allowed.\n",
        "2. A variable name must start with an alphabet or an underscore.\n",
        "3. Python keywords cannot be used for naming a variable.\n",
        "\n",
        "**Note:** Python is case sensitive so *var* and *VAR* are different variables in python."
      ]
    },
    {
      "cell_type": "code",
      "metadata": {
        "id": "DMkd4uWqonYm"
      },
      "source": [
        "var = 10\n",
        "VAR = 20"
      ],
      "execution_count": 4,
      "outputs": []
    },
    {
      "cell_type": "code",
      "metadata": {
        "colab": {
          "base_uri": "https://localhost:8080/"
        },
        "id": "AumjB4lCq8eu",
        "outputId": "856eaa94-a876-48f1-93ce-52471492e8ab"
      },
      "source": [
        "var"
      ],
      "execution_count": 5,
      "outputs": [
        {
          "output_type": "execute_result",
          "data": {
            "text/plain": [
              "10"
            ]
          },
          "metadata": {
            "tags": []
          },
          "execution_count": 5
        }
      ]
    },
    {
      "cell_type": "code",
      "metadata": {
        "colab": {
          "base_uri": "https://localhost:8080/"
        },
        "id": "EGmI6BTmq81E",
        "outputId": "a3beacf1-a857-4cc3-8cac-fd4f0e69058b"
      },
      "source": [
        "VAR"
      ],
      "execution_count": 6,
      "outputs": [
        {
          "output_type": "execute_result",
          "data": {
            "text/plain": [
              "20"
            ]
          },
          "metadata": {
            "tags": []
          },
          "execution_count": 6
        }
      ]
    },
    {
      "cell_type": "code",
      "metadata": {
        "id": "W-s8HW9DrShh"
      },
      "source": [
        "abc123 = 1\n",
        "abc_123 = 2\n",
        "_abc123 = 3"
      ],
      "execution_count": 12,
      "outputs": []
    },
    {
      "cell_type": "code",
      "metadata": {
        "colab": {
          "base_uri": "https://localhost:8080/"
        },
        "id": "fs1pWhJwrceP",
        "outputId": "1fa7fbac-14d9-4765-e03c-a127ca53f212"
      },
      "source": [
        "abc123, abc_123, _abc123"
      ],
      "execution_count": 13,
      "outputs": [
        {
          "output_type": "execute_result",
          "data": {
            "text/plain": [
              "(1, 2, 3)"
            ]
          },
          "metadata": {
            "tags": []
          },
          "execution_count": 13
        }
      ]
    },
    {
      "cell_type": "code",
      "metadata": {
        "colab": {
          "base_uri": "https://localhost:8080/",
          "height": 128
        },
        "id": "_h__bWaUri0v",
        "outputId": "06399649-b7d8-42e7-d3d2-98f3aba145e4"
      },
      "source": [
        "abc123$ = 4"
      ],
      "execution_count": 16,
      "outputs": [
        {
          "output_type": "error",
          "ename": "SyntaxError",
          "evalue": "ignored",
          "traceback": [
            "\u001b[0;36m  File \u001b[0;32m\"<ipython-input-16-f6622a8f95bc>\"\u001b[0;36m, line \u001b[0;32m1\u001b[0m\n\u001b[0;31m    abc123$ = 4\u001b[0m\n\u001b[0m          ^\u001b[0m\n\u001b[0;31mSyntaxError\u001b[0m\u001b[0;31m:\u001b[0m invalid syntax\n"
          ]
        }
      ]
    },
    {
      "cell_type": "code",
      "metadata": {
        "colab": {
          "base_uri": "https://localhost:8080/",
          "height": 128
        },
        "id": "rHwYBRVEr61X",
        "outputId": "4e1f140b-cfa4-4ce4-a24f-1962f61463a1"
      },
      "source": [
        "abc 123 = 5"
      ],
      "execution_count": 17,
      "outputs": [
        {
          "output_type": "error",
          "ename": "SyntaxError",
          "evalue": "ignored",
          "traceback": [
            "\u001b[0;36m  File \u001b[0;32m\"<ipython-input-17-46c167793694>\"\u001b[0;36m, line \u001b[0;32m1\u001b[0m\n\u001b[0;31m    abc 123 = 5\u001b[0m\n\u001b[0m          ^\u001b[0m\n\u001b[0;31mSyntaxError\u001b[0m\u001b[0;31m:\u001b[0m invalid syntax\n"
          ]
        }
      ]
    },
    {
      "cell_type": "code",
      "metadata": {
        "colab": {
          "base_uri": "https://localhost:8080/",
          "height": 128
        },
        "id": "0dC8qRcor9Mz",
        "outputId": "b4d0cb78-570c-4129-d077-edee43086309"
      },
      "source": [
        "5abc123 = 6"
      ],
      "execution_count": 18,
      "outputs": [
        {
          "output_type": "error",
          "ename": "SyntaxError",
          "evalue": "ignored",
          "traceback": [
            "\u001b[0;36m  File \u001b[0;32m\"<ipython-input-18-3d4b4eb6d3d8>\"\u001b[0;36m, line \u001b[0;32m1\u001b[0m\n\u001b[0;31m    5abc123 = 6\u001b[0m\n\u001b[0m          ^\u001b[0m\n\u001b[0;31mSyntaxError\u001b[0m\u001b[0;31m:\u001b[0m invalid syntax\n"
          ]
        }
      ]
    },
    {
      "cell_type": "code",
      "metadata": {
        "colab": {
          "base_uri": "https://localhost:8080/",
          "height": 128
        },
        "id": "gFfX79HErBXK",
        "outputId": "4ac63e42-83c4-4492-a577-b609a5e3d158"
      },
      "source": [
        "class = 5"
      ],
      "execution_count": 10,
      "outputs": [
        {
          "output_type": "error",
          "ename": "SyntaxError",
          "evalue": "ignored",
          "traceback": [
            "\u001b[0;36m  File \u001b[0;32m\"<ipython-input-10-5ff19d2568a1>\"\u001b[0;36m, line \u001b[0;32m1\u001b[0m\n\u001b[0;31m    class = 5\u001b[0m\n\u001b[0m          ^\u001b[0m\n\u001b[0;31mSyntaxError\u001b[0m\u001b[0;31m:\u001b[0m invalid syntax\n"
          ]
        }
      ]
    },
    {
      "cell_type": "markdown",
      "metadata": {
        "id": "EMtvgu5E-P3N"
      },
      "source": [
        "## **Commenting**\n",
        "For the readability of programs we use comments in between the codes. These comments will not be executed as codes. <br>\n",
        "In python we use two types of commenting.\n",
        "1. **Single line commenting:** In this we use the hash symbol (**#**). All the statements written after # will be considered as commments and will not be executed.<br>\n",
        "\n",
        "\n",
        "```\n",
        "# This is a comment\n",
        "```\n",
        "\n",
        "\n",
        "2. **Multiple line commenting:** For writing comments in multiple lines we use three single quotes to mark the beginning of the comment and for the end of the comment.\n",
        "\n",
        "\n",
        "```\n",
        "'''\n",
        "This is \n",
        "multiple line\n",
        "commenting\n",
        "'''\n",
        "```\n",
        "\n"
      ]
    },
    {
      "cell_type": "markdown",
      "metadata": {
        "id": "RTPJj4GGsAYL"
      },
      "source": [
        "## **Data Types in Python**\n",
        "\n",
        "* Integer\n",
        "* Float\n",
        "* String\n",
        "* List\n",
        "* Tuple\n",
        "* Set\n",
        "* Dictionary"
      ]
    },
    {
      "cell_type": "markdown",
      "metadata": {
        "id": "CqJDT_aAsTrz"
      },
      "source": [
        "### **Integer**\n",
        "\n",
        "Integer data type represents integer values like 11, -65, 0, etc.\n"
      ]
    },
    {
      "cell_type": "code",
      "metadata": {
        "id": "LTo0lSEVrJII"
      },
      "source": [
        "n = 10"
      ],
      "execution_count": 19,
      "outputs": []
    },
    {
      "cell_type": "code",
      "metadata": {
        "colab": {
          "base_uri": "https://localhost:8080/"
        },
        "id": "n1At3CJPslyC",
        "outputId": "247ff9df-1062-4c67-ddb7-92e32988bbb2"
      },
      "source": [
        "n"
      ],
      "execution_count": 20,
      "outputs": [
        {
          "output_type": "execute_result",
          "data": {
            "text/plain": [
              "10"
            ]
          },
          "metadata": {
            "tags": []
          },
          "execution_count": 20
        }
      ]
    },
    {
      "cell_type": "markdown",
      "metadata": {
        "id": "Jp-FDTKCsm-A"
      },
      "source": [
        "**Note:** We can use the inbuilt function type() to know what type of data a variable holds."
      ]
    },
    {
      "cell_type": "code",
      "metadata": {
        "colab": {
          "base_uri": "https://localhost:8080/"
        },
        "id": "-CObLCa1smDv",
        "outputId": "dc4117b4-9ea5-4520-b4e5-ca191961cdcb"
      },
      "source": [
        "type(n)"
      ],
      "execution_count": 21,
      "outputs": [
        {
          "output_type": "execute_result",
          "data": {
            "text/plain": [
              "int"
            ]
          },
          "metadata": {
            "tags": []
          },
          "execution_count": 21
        }
      ]
    },
    {
      "cell_type": "markdown",
      "metadata": {
        "id": "UbNd0VZSs5T3"
      },
      "source": [
        "### **Float**\n",
        "\n",
        "This data type holds floating point values like 15.6, 0.3, etc."
      ]
    },
    {
      "cell_type": "code",
      "metadata": {
        "id": "d_ZLRWrXsyzD"
      },
      "source": [
        "f = 102.34"
      ],
      "execution_count": 22,
      "outputs": []
    },
    {
      "cell_type": "code",
      "metadata": {
        "colab": {
          "base_uri": "https://localhost:8080/"
        },
        "id": "vnkF6rhatIMm",
        "outputId": "ae837e36-a32e-4ce6-cb27-db83ca3519d4"
      },
      "source": [
        "f"
      ],
      "execution_count": 23,
      "outputs": [
        {
          "output_type": "execute_result",
          "data": {
            "text/plain": [
              "102.34"
            ]
          },
          "metadata": {
            "tags": []
          },
          "execution_count": 23
        }
      ]
    },
    {
      "cell_type": "code",
      "metadata": {
        "colab": {
          "base_uri": "https://localhost:8080/"
        },
        "id": "dABOWST5tIgn",
        "outputId": "ecada8c9-e264-4867-f4c0-25dabe011ef0"
      },
      "source": [
        "type(f)"
      ],
      "execution_count": 24,
      "outputs": [
        {
          "output_type": "execute_result",
          "data": {
            "text/plain": [
              "float"
            ]
          },
          "metadata": {
            "tags": []
          },
          "execution_count": 24
        }
      ]
    },
    {
      "cell_type": "markdown",
      "metadata": {
        "id": "9fPaVPXgtUp1"
      },
      "source": [
        "Another way of representing floating point values is by using the scientific notation. Scientific notations are generally used for vary large or very small values like 98000000000 as 9.8e10 , 0.0000005 as 5e-7, etc"
      ]
    },
    {
      "cell_type": "code",
      "metadata": {
        "id": "x0congyRtJIm"
      },
      "source": [
        "g = 1.234e5"
      ],
      "execution_count": 25,
      "outputs": []
    },
    {
      "cell_type": "code",
      "metadata": {
        "colab": {
          "base_uri": "https://localhost:8080/"
        },
        "id": "y1n-uGzStSJ3",
        "outputId": "6f2b3493-fb1e-4c03-c7a1-c18fe0da11dc"
      },
      "source": [
        "g"
      ],
      "execution_count": 26,
      "outputs": [
        {
          "output_type": "execute_result",
          "data": {
            "text/plain": [
              "123400.0"
            ]
          },
          "metadata": {
            "tags": []
          },
          "execution_count": 26
        }
      ]
    },
    {
      "cell_type": "code",
      "metadata": {
        "colab": {
          "base_uri": "https://localhost:8080/"
        },
        "id": "zfhAuL7VtSZY",
        "outputId": "678bf2a7-aeea-4e7f-de0b-a9f10a2e7348"
      },
      "source": [
        "type(g)"
      ],
      "execution_count": 27,
      "outputs": [
        {
          "output_type": "execute_result",
          "data": {
            "text/plain": [
              "float"
            ]
          },
          "metadata": {
            "tags": []
          },
          "execution_count": 27
        }
      ]
    },
    {
      "cell_type": "markdown",
      "metadata": {
        "id": "n6ehi16QuohZ"
      },
      "source": [
        "### **String**\n",
        "\n",
        "String is actually a collection of characters. You can access each character of a string using indices."
      ]
    },
    {
      "cell_type": "code",
      "metadata": {
        "id": "O1ZKHzX6uV1S"
      },
      "source": [
        "s = \"Hello\""
      ],
      "execution_count": 3,
      "outputs": []
    },
    {
      "cell_type": "code",
      "metadata": {
        "colab": {
          "base_uri": "https://localhost:8080/",
          "height": 35
        },
        "id": "gXkSzlX2x8PP",
        "outputId": "113b68d0-1eda-42ee-ff2e-aa3b98ba0e54"
      },
      "source": [
        "s"
      ],
      "execution_count": 4,
      "outputs": [
        {
          "output_type": "execute_result",
          "data": {
            "application/vnd.google.colaboratory.intrinsic+json": {
              "type": "string"
            },
            "text/plain": [
              "'Hello'"
            ]
          },
          "metadata": {
            "tags": []
          },
          "execution_count": 4
        }
      ]
    },
    {
      "cell_type": "markdown",
      "metadata": {
        "id": "mxSHoJSQyW_i"
      },
      "source": [
        "Here the variable **s** contains the string value \"hello\". And we can access each character in this string using index. The index starts from 0 upto *n-1* where *n* is the number of characters in the string.\n",
        "<br><br>\n",
        "**Note:** The len() function can be used to find the length of the string. It can be used for other data types like list, tuple, etc to find the length or the number of elements it has."
      ]
    },
    {
      "cell_type": "code",
      "metadata": {
        "colab": {
          "base_uri": "https://localhost:8080/",
          "height": 35
        },
        "id": "pyd59OV5x8ip",
        "outputId": "8dc8a5bc-2822-46c3-95a1-dddb095998fb"
      },
      "source": [
        "s[0]"
      ],
      "execution_count": 5,
      "outputs": [
        {
          "output_type": "execute_result",
          "data": {
            "application/vnd.google.colaboratory.intrinsic+json": {
              "type": "string"
            },
            "text/plain": [
              "'H'"
            ]
          },
          "metadata": {
            "tags": []
          },
          "execution_count": 5
        }
      ]
    },
    {
      "cell_type": "code",
      "metadata": {
        "colab": {
          "base_uri": "https://localhost:8080/",
          "height": 35
        },
        "id": "FD3dFh9izP9p",
        "outputId": "043e2722-c5b6-43b8-ea2a-2fd0babdf07b"
      },
      "source": [
        "s[4]"
      ],
      "execution_count": 6,
      "outputs": [
        {
          "output_type": "execute_result",
          "data": {
            "application/vnd.google.colaboratory.intrinsic+json": {
              "type": "string"
            },
            "text/plain": [
              "'o'"
            ]
          },
          "metadata": {
            "tags": []
          },
          "execution_count": 6
        }
      ]
    },
    {
      "cell_type": "code",
      "metadata": {
        "colab": {
          "base_uri": "https://localhost:8080/",
          "height": 162
        },
        "id": "ZfZBwpfMzSYQ",
        "outputId": "79b61bb0-1a8f-4433-c958-19d5bab75a3a"
      },
      "source": [
        "s[5]"
      ],
      "execution_count": 7,
      "outputs": [
        {
          "output_type": "error",
          "ename": "IndexError",
          "evalue": "ignored",
          "traceback": [
            "\u001b[0;31m---------------------------------------------------------------------------\u001b[0m",
            "\u001b[0;31mIndexError\u001b[0m                                Traceback (most recent call last)",
            "\u001b[0;32m<ipython-input-7-b5dece75d686>\u001b[0m in \u001b[0;36m<module>\u001b[0;34m()\u001b[0m\n\u001b[0;32m----> 1\u001b[0;31m \u001b[0ms\u001b[0m\u001b[0;34m[\u001b[0m\u001b[0;36m5\u001b[0m\u001b[0;34m]\u001b[0m\u001b[0;34m\u001b[0m\u001b[0;34m\u001b[0m\u001b[0m\n\u001b[0m",
            "\u001b[0;31mIndexError\u001b[0m: string index out of range"
          ]
        }
      ]
    },
    {
      "cell_type": "code",
      "metadata": {
        "colab": {
          "base_uri": "https://localhost:8080/"
        },
        "id": "m-VCjYMezUDB",
        "outputId": "148ba470-b56c-40ed-d1fc-53daae3785b1"
      },
      "source": [
        "len(s)"
      ],
      "execution_count": 8,
      "outputs": [
        {
          "output_type": "execute_result",
          "data": {
            "text/plain": [
              "5"
            ]
          },
          "metadata": {
            "tags": []
          },
          "execution_count": 8
        }
      ]
    },
    {
      "cell_type": "markdown",
      "metadata": {
        "id": "G1Xa0fi2zerw"
      },
      "source": [
        "Python has a very powerful feature called negative indexing, which cannot be seen in other programming languages. Negative indexing starts from -1 to *-n* where *n* is the total number of elements. Normal indexing starts from 0 to n-1 which is from the beginning of the elements to the end, but here it starts from the end and moves to the beginning.<br>\n",
        "* -1 index is the index of the last element which is equivalent to n-1. \n",
        "* Thus -2 index is similar to n-2. \n",
        "* As we go on like this we will reach the beginning that is -n which is similar 0."
      ]
    },
    {
      "cell_type": "code",
      "metadata": {
        "colab": {
          "base_uri": "https://localhost:8080/",
          "height": 35
        },
        "id": "yG0WJCqgzbcY",
        "outputId": "c9672d19-c37a-4b80-85b6-0fecf2d59567"
      },
      "source": [
        "s[-1]"
      ],
      "execution_count": 9,
      "outputs": [
        {
          "output_type": "execute_result",
          "data": {
            "application/vnd.google.colaboratory.intrinsic+json": {
              "type": "string"
            },
            "text/plain": [
              "'o'"
            ]
          },
          "metadata": {
            "tags": []
          },
          "execution_count": 9
        }
      ]
    },
    {
      "cell_type": "code",
      "metadata": {
        "colab": {
          "base_uri": "https://localhost:8080/",
          "height": 35
        },
        "id": "npJHNEhI07Rg",
        "outputId": "481f825b-9fc2-4258-f142-7e108f3bc6c3"
      },
      "source": [
        "s[-5]"
      ],
      "execution_count": 10,
      "outputs": [
        {
          "output_type": "execute_result",
          "data": {
            "application/vnd.google.colaboratory.intrinsic+json": {
              "type": "string"
            },
            "text/plain": [
              "'H'"
            ]
          },
          "metadata": {
            "tags": []
          },
          "execution_count": 10
        }
      ]
    },
    {
      "cell_type": "markdown",
      "metadata": {
        "id": "EE6S3IJ00-2T"
      },
      "source": [
        "### **List**\n",
        "\n",
        "List is a collection of heterogeneous data (i.e, different types of data like int, float, string, etc). List is represented using square brackets '[' and ']'. List also has indexing. Each element in the list can be accessed using indices."
      ]
    },
    {
      "cell_type": "code",
      "metadata": {
        "id": "vqTaBnNq08g4"
      },
      "source": [
        "l = [1, 2.5, \"abc\"]"
      ],
      "execution_count": 11,
      "outputs": []
    },
    {
      "cell_type": "code",
      "metadata": {
        "colab": {
          "base_uri": "https://localhost:8080/"
        },
        "id": "wyF9RSG-1hr_",
        "outputId": "f972c0ce-a4d4-4d68-98f8-794927329136"
      },
      "source": [
        "l"
      ],
      "execution_count": 12,
      "outputs": [
        {
          "output_type": "execute_result",
          "data": {
            "text/plain": [
              "[1, 2.5, 'abc']"
            ]
          },
          "metadata": {
            "tags": []
          },
          "execution_count": 12
        }
      ]
    },
    {
      "cell_type": "code",
      "metadata": {
        "colab": {
          "base_uri": "https://localhost:8080/"
        },
        "id": "Sg6W_XWu1h8X",
        "outputId": "62a0e97b-bd0b-499b-d0cd-f4b0f1d30e5f"
      },
      "source": [
        "l[1]"
      ],
      "execution_count": 13,
      "outputs": [
        {
          "output_type": "execute_result",
          "data": {
            "text/plain": [
              "2.5"
            ]
          },
          "metadata": {
            "tags": []
          },
          "execution_count": 13
        }
      ]
    },
    {
      "cell_type": "code",
      "metadata": {
        "colab": {
          "base_uri": "https://localhost:8080/"
        },
        "id": "dzMaXmfO1kR_",
        "outputId": "061de79a-979a-44c7-f9e3-e23d6ead34ca"
      },
      "source": [
        "len(l)"
      ],
      "execution_count": 14,
      "outputs": [
        {
          "output_type": "execute_result",
          "data": {
            "text/plain": [
              "3"
            ]
          },
          "metadata": {
            "tags": []
          },
          "execution_count": 14
        }
      ]
    },
    {
      "cell_type": "markdown",
      "metadata": {
        "id": "Fp59MTI51usk"
      },
      "source": [
        "A list inside another list is called a nested list. To access the individual elements of the list that is inside the list, then you can use the indexing like the example given below."
      ]
    },
    {
      "cell_type": "code",
      "metadata": {
        "id": "9lFVybJI1li_"
      },
      "source": [
        "k = [1, 2, 3, [10, 20, 30]]"
      ],
      "execution_count": 16,
      "outputs": []
    },
    {
      "cell_type": "code",
      "metadata": {
        "colab": {
          "base_uri": "https://localhost:8080/"
        },
        "id": "7LdFJErr1tof",
        "outputId": "0c295200-f630-44dd-b4f8-567856e9e75c"
      },
      "source": [
        "k"
      ],
      "execution_count": 17,
      "outputs": [
        {
          "output_type": "execute_result",
          "data": {
            "text/plain": [
              "[1, 2, 3, [10, 20, 30]]"
            ]
          },
          "metadata": {
            "tags": []
          },
          "execution_count": 17
        }
      ]
    },
    {
      "cell_type": "code",
      "metadata": {
        "colab": {
          "base_uri": "https://localhost:8080/"
        },
        "id": "IVLnF_5g12PH",
        "outputId": "9e58ccfa-b7ca-4951-f53a-7d8fd0792b9f"
      },
      "source": [
        "k[3]"
      ],
      "execution_count": 18,
      "outputs": [
        {
          "output_type": "execute_result",
          "data": {
            "text/plain": [
              "[10, 20, 30]"
            ]
          },
          "metadata": {
            "tags": []
          },
          "execution_count": 18
        }
      ]
    },
    {
      "cell_type": "code",
      "metadata": {
        "colab": {
          "base_uri": "https://localhost:8080/"
        },
        "id": "LkQNPHmD13zX",
        "outputId": "fc69da91-2608-4130-b4f9-9551460137d4"
      },
      "source": [
        "k[3][1]"
      ],
      "execution_count": 19,
      "outputs": [
        {
          "output_type": "execute_result",
          "data": {
            "text/plain": [
              "20"
            ]
          },
          "metadata": {
            "tags": []
          },
          "execution_count": 19
        }
      ]
    },
    {
      "cell_type": "markdown",
      "metadata": {
        "id": "_PVOlJOR7sxc"
      },
      "source": [
        "### **Tuple**\n",
        "\n",
        "Tuple is similar to list, but the difference is that tuple is represented using brackets and they are immutable unlike list that are mutable. All other properties are similar to that of the list data type.<br>\n",
        "Brackets are not actually necessary for initializing a tuple, we can just use comma to separate each elements in the tuple. <br>\n",
        "*There is a special case where we make a tuple with only one element. To do that we need to use the comma after that only element. Eg: (10,) or simply 10,*\n"
      ]
    },
    {
      "cell_type": "code",
      "metadata": {
        "id": "aT4WmNrF16Kn"
      },
      "source": [
        "t1 = 1, 2, 3    # we can use (1, 2, 3) also"
      ],
      "execution_count": 27,
      "outputs": []
    },
    {
      "cell_type": "code",
      "metadata": {
        "colab": {
          "base_uri": "https://localhost:8080/"
        },
        "id": "t4Ux6P8N_4hK",
        "outputId": "3d35ca29-0d23-4e7b-f304-8e2ca331ea79"
      },
      "source": [
        "t1"
      ],
      "execution_count": 28,
      "outputs": [
        {
          "output_type": "execute_result",
          "data": {
            "text/plain": [
              "(1, 2, 3)"
            ]
          },
          "metadata": {
            "tags": []
          },
          "execution_count": 28
        }
      ]
    },
    {
      "cell_type": "code",
      "metadata": {
        "id": "yIAA95js_5El"
      },
      "source": [
        "t2 = 10,        # we can also use (10,)  "
      ],
      "execution_count": 29,
      "outputs": []
    },
    {
      "cell_type": "code",
      "metadata": {
        "colab": {
          "base_uri": "https://localhost:8080/"
        },
        "id": "hIpU_UsY_-Dd",
        "outputId": "79b0209f-269c-4682-e86e-bf0b900314fc"
      },
      "source": [
        "t2"
      ],
      "execution_count": 30,
      "outputs": [
        {
          "output_type": "execute_result",
          "data": {
            "text/plain": [
              "(10,)"
            ]
          },
          "metadata": {
            "tags": []
          },
          "execution_count": 30
        }
      ]
    },
    {
      "cell_type": "markdown",
      "metadata": {
        "id": "wBD1zBSzAInJ"
      },
      "source": [
        "#### **Mutable Data Types**\n",
        "These are data types whose elements can be changed after initialization. <br>\n",
        "Examples are list, dictionary, etc.<br>\n",
        "We can change the value of any element using the index.\n"
      ]
    },
    {
      "cell_type": "code",
      "metadata": {
        "colab": {
          "base_uri": "https://localhost:8080/"
        },
        "id": "r7zXa9M6_-Yd",
        "outputId": "125a3362-7c24-46cd-9426-6e8ff9bcf0fc"
      },
      "source": [
        "l = [10, 20, 30, 40]\n",
        "l"
      ],
      "execution_count": 31,
      "outputs": [
        {
          "output_type": "execute_result",
          "data": {
            "text/plain": [
              "[10, 20, 30, 40]"
            ]
          },
          "metadata": {
            "tags": []
          },
          "execution_count": 31
        }
      ]
    },
    {
      "cell_type": "code",
      "metadata": {
        "colab": {
          "base_uri": "https://localhost:8080/"
        },
        "id": "jOIqDVyEAS-c",
        "outputId": "2914a3e8-d109-4d08-8ec2-4f1efe6e433a"
      },
      "source": [
        "l[2] = 100\n",
        "l"
      ],
      "execution_count": 32,
      "outputs": [
        {
          "output_type": "execute_result",
          "data": {
            "text/plain": [
              "[10, 20, 100, 40]"
            ]
          },
          "metadata": {
            "tags": []
          },
          "execution_count": 32
        }
      ]
    },
    {
      "cell_type": "markdown",
      "metadata": {
        "id": "1A6SZaG5AL34"
      },
      "source": [
        "#### **Immutable Data Types**\n",
        "These data types cannot be changed after initialization. <br>\n",
        "Examples are tuple, string, etc."
      ]
    },
    {
      "cell_type": "code",
      "metadata": {
        "colab": {
          "base_uri": "https://localhost:8080/",
          "height": 35
        },
        "id": "RYa--lcDAYVH",
        "outputId": "bed1c276-9119-4852-f220-9dea574322be"
      },
      "source": [
        "s = \"hello\"\n",
        "s"
      ],
      "execution_count": 33,
      "outputs": [
        {
          "output_type": "execute_result",
          "data": {
            "application/vnd.google.colaboratory.intrinsic+json": {
              "type": "string"
            },
            "text/plain": [
              "'hello'"
            ]
          },
          "metadata": {
            "tags": []
          },
          "execution_count": 33
        }
      ]
    },
    {
      "cell_type": "code",
      "metadata": {
        "colab": {
          "base_uri": "https://localhost:8080/",
          "height": 162
        },
        "id": "ILK1t3mrAa5C",
        "outputId": "f71265f2-48b2-4838-aff5-ee17e8adb72e"
      },
      "source": [
        "s[0] = \"H\""
      ],
      "execution_count": 34,
      "outputs": [
        {
          "output_type": "error",
          "ename": "TypeError",
          "evalue": "ignored",
          "traceback": [
            "\u001b[0;31m---------------------------------------------------------------------------\u001b[0m",
            "\u001b[0;31mTypeError\u001b[0m                                 Traceback (most recent call last)",
            "\u001b[0;32m<ipython-input-34-ca3e7d000bd5>\u001b[0m in \u001b[0;36m<module>\u001b[0;34m()\u001b[0m\n\u001b[0;32m----> 1\u001b[0;31m \u001b[0ms\u001b[0m\u001b[0;34m[\u001b[0m\u001b[0;36m0\u001b[0m\u001b[0;34m]\u001b[0m \u001b[0;34m=\u001b[0m \u001b[0;34m\"H\"\u001b[0m\u001b[0;34m\u001b[0m\u001b[0;34m\u001b[0m\u001b[0m\n\u001b[0m",
            "\u001b[0;31mTypeError\u001b[0m: 'str' object does not support item assignment"
          ]
        }
      ]
    },
    {
      "cell_type": "code",
      "metadata": {
        "colab": {
          "base_uri": "https://localhost:8080/"
        },
        "id": "QvnJiMTbAdxS",
        "outputId": "1cbf70cb-1325-43ca-fee3-338993d9f37a"
      },
      "source": [
        "t = (1, 2, 3)\n",
        "t"
      ],
      "execution_count": 35,
      "outputs": [
        {
          "output_type": "execute_result",
          "data": {
            "text/plain": [
              "(1, 2, 3)"
            ]
          },
          "metadata": {
            "tags": []
          },
          "execution_count": 35
        }
      ]
    },
    {
      "cell_type": "code",
      "metadata": {
        "colab": {
          "base_uri": "https://localhost:8080/",
          "height": 162
        },
        "id": "0YGydGCGAhK6",
        "outputId": "f24ed02f-21f2-4dc0-ce1c-391db54dcc2b"
      },
      "source": [
        "t[1] = 10"
      ],
      "execution_count": 36,
      "outputs": [
        {
          "output_type": "error",
          "ename": "TypeError",
          "evalue": "ignored",
          "traceback": [
            "\u001b[0;31m---------------------------------------------------------------------------\u001b[0m",
            "\u001b[0;31mTypeError\u001b[0m                                 Traceback (most recent call last)",
            "\u001b[0;32m<ipython-input-36-5a9388635924>\u001b[0m in \u001b[0;36m<module>\u001b[0;34m()\u001b[0m\n\u001b[0;32m----> 1\u001b[0;31m \u001b[0mt\u001b[0m\u001b[0;34m[\u001b[0m\u001b[0;36m1\u001b[0m\u001b[0;34m]\u001b[0m \u001b[0;34m=\u001b[0m \u001b[0;36m10\u001b[0m\u001b[0;34m\u001b[0m\u001b[0;34m\u001b[0m\u001b[0m\n\u001b[0m",
            "\u001b[0;31mTypeError\u001b[0m: 'tuple' object does not support item assignment"
          ]
        }
      ]
    },
    {
      "cell_type": "markdown",
      "metadata": {
        "id": "xj3x9opgAl0Z"
      },
      "source": [
        "### **Set**\n",
        "Set is a data type is similar to list that it is a collection of heterogeneous data, but the main difference is that it will contain only unique elements. Set is represented using curly braces { and }. Even if we initialize a set with duplicate values, it will hold only one copy of the value.<br><br>\n",
        "Set does not have index."
      ]
    },
    {
      "cell_type": "code",
      "metadata": {
        "id": "775XbBXMAiZS"
      },
      "source": [
        "st = {1, 1.5, \"abc\", 1, 1, 1.2}"
      ],
      "execution_count": 39,
      "outputs": []
    },
    {
      "cell_type": "code",
      "metadata": {
        "colab": {
          "base_uri": "https://localhost:8080/"
        },
        "id": "R669_cs0BCaA",
        "outputId": "35aea221-a86b-40f3-ba47-1121b468614c"
      },
      "source": [
        "st    # there were three 1 in the initialization set but only one 1 in the actual set."
      ],
      "execution_count": 40,
      "outputs": [
        {
          "output_type": "execute_result",
          "data": {
            "text/plain": [
              "{1, 1.2, 1.5, 'abc'}"
            ]
          },
          "metadata": {
            "tags": []
          },
          "execution_count": 40
        }
      ]
    },
    {
      "cell_type": "code",
      "metadata": {
        "colab": {
          "base_uri": "https://localhost:8080/",
          "height": 162
        },
        "id": "H-cUJk5fBCnI",
        "outputId": "5007504c-f2ce-4225-c4ba-a3e3f33ca7ba"
      },
      "source": [
        "st[0]"
      ],
      "execution_count": 41,
      "outputs": [
        {
          "output_type": "error",
          "ename": "TypeError",
          "evalue": "ignored",
          "traceback": [
            "\u001b[0;31m---------------------------------------------------------------------------\u001b[0m",
            "\u001b[0;31mTypeError\u001b[0m                                 Traceback (most recent call last)",
            "\u001b[0;32m<ipython-input-41-028cc1d9138b>\u001b[0m in \u001b[0;36m<module>\u001b[0;34m()\u001b[0m\n\u001b[0;32m----> 1\u001b[0;31m \u001b[0mst\u001b[0m\u001b[0;34m[\u001b[0m\u001b[0;36m0\u001b[0m\u001b[0;34m]\u001b[0m\u001b[0;34m\u001b[0m\u001b[0;34m\u001b[0m\u001b[0m\n\u001b[0m",
            "\u001b[0;31mTypeError\u001b[0m: 'set' object is not subscriptable"
          ]
        }
      ]
    },
    {
      "cell_type": "markdown",
      "metadata": {
        "id": "PhVuydLmB22T"
      },
      "source": [
        "### **Dcitionary**\n",
        "Dictionary is a very important data type in python. It is also represented using curly braces { and } like set. But it contains elements in the form of key-value pairs. These keys can be used to access the value it holds just like indices. <br>\n",
        "**Note:** The key should be an immutable data type. Value can be any data type like list, string or even dictionary (nested dictionary).\n",
        "<br>\n",
        "We can use the following functions:\n",
        "* **keys()**: will return a list of keys the dictionary holds.\n",
        "* **values()**: will return a list of values the dictionary holds.\n",
        "* **items()**: will return the key-value pairs (as tuple values) the dictionary has."
      ]
    },
    {
      "cell_type": "code",
      "metadata": {
        "id": "TY18mCZHBa5w"
      },
      "source": [
        "d = {\"one\":1, \"two\":2, \"three\":3}"
      ],
      "execution_count": 42,
      "outputs": []
    },
    {
      "cell_type": "code",
      "metadata": {
        "colab": {
          "base_uri": "https://localhost:8080/"
        },
        "id": "kufFW3juCsyF",
        "outputId": "dffe16bc-b2ea-4283-f7da-8284aa020615"
      },
      "source": [
        "d"
      ],
      "execution_count": 43,
      "outputs": [
        {
          "output_type": "execute_result",
          "data": {
            "text/plain": [
              "{'one': 1, 'three': 3, 'two': 2}"
            ]
          },
          "metadata": {
            "tags": []
          },
          "execution_count": 43
        }
      ]
    },
    {
      "cell_type": "code",
      "metadata": {
        "colab": {
          "base_uri": "https://localhost:8080/"
        },
        "id": "r5_6WapTCs7i",
        "outputId": "26a6b8a7-fd73-4f3d-d330-4e6ba26968c9"
      },
      "source": [
        "d[\"one\"]"
      ],
      "execution_count": 44,
      "outputs": [
        {
          "output_type": "execute_result",
          "data": {
            "text/plain": [
              "1"
            ]
          },
          "metadata": {
            "tags": []
          },
          "execution_count": 44
        }
      ]
    },
    {
      "cell_type": "code",
      "metadata": {
        "colab": {
          "base_uri": "https://localhost:8080/"
        },
        "id": "GUGvHPH1CufT",
        "outputId": "872639ee-eadb-4459-d536-ed442883cd89"
      },
      "source": [
        "d.keys()"
      ],
      "execution_count": 45,
      "outputs": [
        {
          "output_type": "execute_result",
          "data": {
            "text/plain": [
              "dict_keys(['one', 'two', 'three'])"
            ]
          },
          "metadata": {
            "tags": []
          },
          "execution_count": 45
        }
      ]
    },
    {
      "cell_type": "code",
      "metadata": {
        "colab": {
          "base_uri": "https://localhost:8080/"
        },
        "id": "aVAFKcsuDOna",
        "outputId": "76ca8421-9c35-4c09-8657-f1c6e4631a74"
      },
      "source": [
        "d.values()"
      ],
      "execution_count": 46,
      "outputs": [
        {
          "output_type": "execute_result",
          "data": {
            "text/plain": [
              "dict_values([1, 2, 3])"
            ]
          },
          "metadata": {
            "tags": []
          },
          "execution_count": 46
        }
      ]
    },
    {
      "cell_type": "code",
      "metadata": {
        "colab": {
          "base_uri": "https://localhost:8080/"
        },
        "id": "VsgLZXLdDPlC",
        "outputId": "b22ef673-606e-4e06-8403-24899dad9d0c"
      },
      "source": [
        "d.items()"
      ],
      "execution_count": 47,
      "outputs": [
        {
          "output_type": "execute_result",
          "data": {
            "text/plain": [
              "dict_items([('one', 1), ('two', 2), ('three', 3)])"
            ]
          },
          "metadata": {
            "tags": []
          },
          "execution_count": 47
        }
      ]
    },
    {
      "cell_type": "markdown",
      "metadata": {
        "id": "5SUJhzCdEqzT"
      },
      "source": [
        "## **Python Operators**"
      ]
    },
    {
      "cell_type": "markdown",
      "metadata": {
        "id": "DJPlnkpIEvsD"
      },
      "source": [
        "### **Arithmetic Operators**"
      ]
    },
    {
      "cell_type": "markdown",
      "metadata": {
        "id": "60COn72QEyal"
      },
      "source": [
        "### **Logical Operators**"
      ]
    },
    {
      "cell_type": "markdown",
      "metadata": {
        "id": "sJMwCp8ME3Xf"
      },
      "source": [
        "### **Assignment Operator**"
      ]
    },
    {
      "cell_type": "markdown",
      "metadata": {
        "id": "-3xh96XJFHTP"
      },
      "source": [
        "## **Flow of exection**"
      ]
    },
    {
      "cell_type": "markdown",
      "metadata": {
        "id": "q-ZunzZnEmU3"
      },
      "source": [
        "### **Conditional Statements**"
      ]
    },
    {
      "cell_type": "markdown",
      "metadata": {
        "id": "OUvUd5p4E9nc"
      },
      "source": [
        "#### **if statement**"
      ]
    },
    {
      "cell_type": "markdown",
      "metadata": {
        "id": "11bgLMpvFaBO"
      },
      "source": [
        "#### **if-else**"
      ]
    },
    {
      "cell_type": "markdown",
      "metadata": {
        "id": "qkM6yoHNFf8C"
      },
      "source": [
        "#### **if-else-if ladder**"
      ]
    },
    {
      "cell_type": "markdown",
      "metadata": {
        "id": "DfH1XQwlFBcv"
      },
      "source": [
        "### **Loops**"
      ]
    },
    {
      "cell_type": "markdown",
      "metadata": {
        "id": "u6wgfyLuFPpx"
      },
      "source": [
        "#### **for loop**"
      ]
    },
    {
      "cell_type": "markdown",
      "metadata": {
        "id": "eAxKPRQgFPZX"
      },
      "source": [
        "#### **while loop**"
      ]
    },
    {
      "cell_type": "markdown",
      "metadata": {
        "id": "f2OFlyGDDj0L"
      },
      "source": [
        "## **Defining Functions**\n",
        "Functions are named block of statements that can be called at the any part of the code (as the scope of the function) for as many times as we need.<br>\n",
        "In python function are defined using the keyword **def**, then we provide the name of the function and them inside the brackets we give the parameters for the function.<br>\n",
        "**Syntax:**\n",
        "\n",
        "```\n",
        "def function_name(parameter list):\n",
        "    # body of function\n",
        "```\n",
        "\n"
      ]
    },
    {
      "cell_type": "code",
      "metadata": {
        "id": "I4ryyGGfDQsK"
      },
      "source": [
        "T"
      ],
      "execution_count": null,
      "outputs": []
    }
  ]
}